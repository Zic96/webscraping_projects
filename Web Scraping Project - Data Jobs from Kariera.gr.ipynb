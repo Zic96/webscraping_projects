{
 "cells": [
  {
   "cell_type": "code",
   "execution_count": 82,
   "id": "87f39081",
   "metadata": {
    "ExecuteTime": {
     "end_time": "2021-04-21T08:46:45.906155Z",
     "start_time": "2021-04-21T08:46:45.898163Z"
    }
   },
   "outputs": [],
   "source": [
    "import requests\n",
    "from bs4 import BeautifulSoup\n",
    "from time import sleep\n",
    "import pprint\n",
    "from tqdm import tqdm_notebook as tqdm # this is a fancy progress bar!\n",
    "import pandas as pd"
   ]
  },
  {
   "cell_type": "markdown",
   "id": "3bac1966",
   "metadata": {},
   "source": [
    "## Construct URL"
   ]
  },
  {
   "cell_type": "code",
   "execution_count": 61,
   "id": "4270447f",
   "metadata": {
    "ExecuteTime": {
     "end_time": "2021-04-21T08:46:46.061267Z",
     "start_time": "2021-04-21T08:46:46.052575Z"
    }
   },
   "outputs": [
    {
     "data": {
      "text/plain": [
       "'https://www.kariera.gr/jobs?title=data+analyst+data+scientist+data+engineer&page=0'"
      ]
     },
     "execution_count": 61,
     "metadata": {},
     "output_type": "execute_result"
    }
   ],
   "source": [
    "#Creating the URL\n",
    "main_link = 'https://www.kariera.gr/jobs'\n",
    "query = '?title='\n",
    "job_roles = ['data+analyst', 'data+scientist', 'data+engineer']\n",
    "\n",
    "page_ext = '&page='\n",
    "\n",
    "link = main_link + query + '+'.join(job_roles) + page_ext +'0'\n",
    "link"
   ]
  },
  {
   "cell_type": "code",
   "execution_count": 62,
   "id": "f805f333",
   "metadata": {
    "ExecuteTime": {
     "end_time": "2021-04-21T08:46:47.116074Z",
     "start_time": "2021-04-21T08:46:46.219418Z"
    }
   },
   "outputs": [],
   "source": [
    "response = requests.get(link, timeout= 15)"
   ]
  },
  {
   "cell_type": "code",
   "execution_count": 63,
   "id": "401ad229",
   "metadata": {
    "ExecuteTime": {
     "end_time": "2021-04-21T08:46:47.158436Z",
     "start_time": "2021-04-21T08:46:47.145744Z"
    }
   },
   "outputs": [
    {
     "data": {
      "text/plain": [
       "200"
      ]
     },
     "execution_count": 63,
     "metadata": {},
     "output_type": "execute_result"
    }
   ],
   "source": [
    "response.status_code"
   ]
  },
  {
   "cell_type": "markdown",
   "id": "daaef4f0",
   "metadata": {},
   "source": [
    "## Print required fields"
   ]
  },
  {
   "cell_type": "code",
   "execution_count": 64,
   "id": "0e0f1496",
   "metadata": {
    "ExecuteTime": {
     "end_time": "2021-04-21T08:46:47.206055Z",
     "start_time": "2021-04-21T08:46:47.173610Z"
    }
   },
   "outputs": [],
   "source": [
    "soup = BeautifulSoup(response.content, 'html.parser')"
   ]
  },
  {
   "cell_type": "code",
   "execution_count": 35,
   "id": "e3ebad2f",
   "metadata": {
    "ExecuteTime": {
     "end_time": "2021-04-21T08:46:47.917951Z",
     "start_time": "2021-04-21T08:46:47.893105Z"
    }
   },
   "outputs": [],
   "source": [
    "job_ad = soup.find_all('section', class_ = 'ZVuAW2ak')[0]"
   ]
  },
  {
   "cell_type": "code",
   "execution_count": 87,
   "id": "ccdac51a",
   "metadata": {},
   "outputs": [
    {
     "data": {
      "text/plain": [
       "'21637'"
      ]
     },
     "execution_count": 87,
     "metadata": {},
     "output_type": "execute_result"
    }
   ],
   "source": [
    "# job id\n",
    "job_ad.find('a', class_ = 'h4 tGc1KEdv').get('href').replace('?sponsored','').split('/')[-1]"
   ]
  },
  {
   "cell_type": "code",
   "execution_count": 36,
   "id": "009b6505",
   "metadata": {},
   "outputs": [
    {
     "data": {
      "text/plain": [
       "'Διαχείριση Αιτημάτων Leads/Digital Campaigns WIND & NOVA'"
      ]
     },
     "execution_count": 36,
     "metadata": {},
     "output_type": "execute_result"
    }
   ],
   "source": [
    "# job title\n",
    "\n",
    "job_ad.find('a', class_ = 'h4 tGc1KEdv').text\n"
   ]
  },
  {
   "cell_type": "code",
   "execution_count": 41,
   "id": "5fc095e6",
   "metadata": {},
   "outputs": [
    {
     "data": {
      "text/plain": [
       "'BFS Group'"
      ]
     },
     "execution_count": 41,
     "metadata": {},
     "output_type": "execute_result"
    }
   ],
   "source": [
    "# Comapny\n",
    "job_ad.find('a', attrs={'data-testid': 'job-card-company-name-link'}).text\n"
   ]
  },
  {
   "cell_type": "code",
   "execution_count": 43,
   "id": "295cbb0a",
   "metadata": {},
   "outputs": [
    {
     "data": {
      "text/plain": [
       "'Άγιος Δημήτριος Αττικής'"
      ]
     },
     "execution_count": 43,
     "metadata": {},
     "output_type": "execute_result"
    }
   ],
   "source": [
    "# location\n",
    "job_ad.find('span', attrs={'data-testid': 'location'}).text"
   ]
  },
  {
   "cell_type": "code",
   "execution_count": 45,
   "id": "e53d58b4",
   "metadata": {},
   "outputs": [
    {
     "data": {
      "text/plain": [
       "'Μερική απασχόληση'"
      ]
     },
     "execution_count": 45,
     "metadata": {},
     "output_type": "execute_result"
    }
   ],
   "source": [
    "# job occupation\n",
    "job_ad.find('span', attrs={'data-testid': 'occupationType'}).text\n"
   ]
  },
  {
   "cell_type": "code",
   "execution_count": 90,
   "id": "7c6e6929",
   "metadata": {
    "ExecuteTime": {
     "end_time": "2021-04-21T08:47:32.135869Z",
     "start_time": "2021-04-21T08:47:20.853568Z"
    }
   },
   "outputs": [],
   "source": [
    "# Create a function to gather all data\n",
    "def parse_page(soup):\n",
    "    jobs = soup.find_all('section', class_ = 'ZVuAW2ak')\n",
    "\n",
    "    data = []\n",
    "    for job in tqdm(jobs):\n",
    "        sleep(0.6)\n",
    "        try:\n",
    "            job_id = int(job.find('a', class_ = 'h4 tGc1KEdv').get('href').replace('?sponsored','').split('/')[-1])\n",
    "            title = job.find('a', class_ = 'h4 tGc1KEdv').text\n",
    "            if job.find('a', attrs={'data-testid': 'job-card-company-name-link'}):\n",
    "                company = job.find('a', attrs={'data-testid': 'job-card-company-name-link'}).text\n",
    "            else: \n",
    "                company = None\n",
    "            location = job.find('span', attrs={'data-testid': 'location'}).text\n",
    "            occupation = job.find('span', attrs={'data-testid': 'occupationType'}).text\n",
    "            data.append([job_id, title, company, location, occupation])\n",
    "        except:\n",
    "            print('Error parsing job')\n",
    "    return data"
   ]
  },
  {
   "cell_type": "code",
   "execution_count": 91,
   "id": "79399f5c",
   "metadata": {},
   "outputs": [
    {
     "name": "stderr",
     "output_type": "stream",
     "text": [
      "/tmp/ipykernel_26720/1992500413.py:5: TqdmDeprecationWarning: This function will be removed in tqdm==5.0.0\n",
      "Please use `tqdm.notebook.tqdm` instead of `tqdm.tqdm_notebook`\n",
      "  for job in tqdm(jobs):\n"
     ]
    },
    {
     "data": {
      "application/vnd.jupyter.widget-view+json": {
       "model_id": "86ae2ed0a19b446792617c1229dd414d",
       "version_major": 2,
       "version_minor": 0
      },
      "text/plain": [
       "  0%|          | 0/21 [00:00<?, ?it/s]"
      ]
     },
     "metadata": {},
     "output_type": "display_data"
    },
    {
     "data": {
      "text/plain": [
       "[[21851,\n",
       "  'Software Quality Assurance Engineer',\n",
       "  'ATOS GREECE',\n",
       "  'Αθήνα',\n",
       "  'Πλήρης απασχόληση'],\n",
       " [21852,\n",
       "  'Backend Software Development Engineer',\n",
       "  'ATOS GREECE',\n",
       "  'Αθήνα',\n",
       "  'Πλήρης απασχόληση'],\n",
       " [23402,\n",
       "  'Software Engineers στη Θέρμη Θεσσαλονίκης',\n",
       "  'Lidl Ελλάς ',\n",
       "  'Θέρμη',\n",
       "  'Πλήρης απασχόληση'],\n",
       " [21998,\n",
       "  'Senior Cloud Engineer',\n",
       "  'Executive Level',\n",
       "  'Αθήνα',\n",
       "  'Πλήρης απασχόληση'],\n",
       " [24951,\n",
       "  'CREDIT CONTROLLER/ΥΠΕΥΘΥΝΟΣ ΠΙΣΤΩΤΙΚΟΥ ΕΛΕΓΧΟΥ',\n",
       "  None,\n",
       "  'Νέα Φιλαδέλφεια Αττικής',\n",
       "  'Πλήρης απασχόληση'],\n",
       " [24972,\n",
       "  'Content Creator',\n",
       "  'Hiring Solutions | kariera.gr',\n",
       "  'Αθήνα',\n",
       "  'Πλήρης απασχόληση'],\n",
       " [24973,\n",
       "  'Ecommerce Content Editor',\n",
       "  'Hiring Solutions | kariera.gr',\n",
       "  'Αθήνα',\n",
       "  'Πλήρης απασχόληση'],\n",
       " [24978,\n",
       "  'Project Manager (Content)',\n",
       "  'Hiring Solutions | kariera.gr',\n",
       "  'Αθήνα',\n",
       "  'Πλήρης απασχόληση'],\n",
       " [24979,\n",
       "  'Content Manager',\n",
       "  'Hiring Solutions | kariera.gr',\n",
       "  'Αθήνα',\n",
       "  'Πλήρης απασχόληση'],\n",
       " [24960,\n",
       "  'CRM Sales Support Officer',\n",
       "  'PwC Greece',\n",
       "  'Αθήνα',\n",
       "  'Πλήρης απασχόληση'],\n",
       " [24410,\n",
       "  'CRM Marketing Support Officer',\n",
       "  'PwC Greece',\n",
       "  'Αθήνα',\n",
       "  'Πλήρης απασχόληση'],\n",
       " [24026, 'Βοηθός Λογιστή', 'ΣΠΑΝΕΛΑΣ Α.Ε.', 'Ano Liosia', 'Πλήρης απασχόληση'],\n",
       " [23536,\n",
       "  'Content Creator',\n",
       "  'Hiring Solutions | kariera.gr',\n",
       "  'Αθήνα',\n",
       "  'Πλήρης απασχόληση'],\n",
       " [23535,\n",
       "  'Ecommerce Content Editor',\n",
       "  'Hiring Solutions | kariera.gr',\n",
       "  'Αθήνα',\n",
       "  'Πλήρης απασχόληση'],\n",
       " [23190,\n",
       "  'E-Shop Administrative Assistant',\n",
       "  'Celestino',\n",
       "  'Αιγάλεω',\n",
       "  'Πλήρης απασχόληση'],\n",
       " [22695,\n",
       "  'CRM Specialist',\n",
       "  'WIND HELLAS TELECOMMUNICATIONS',\n",
       "  'Αθήνα',\n",
       "  'Πλήρης απασχόληση'],\n",
       " [22238,\n",
       "  'Junior Controller / Thessaloniki',\n",
       "  'Sani/Ikos Group',\n",
       "  'Θεσσαλονίκη',\n",
       "  'Πλήρης απασχόληση'],\n",
       " [22044,\n",
       "  'Product Manager',\n",
       "  'WIND HELLAS TELECOMMUNICATIONS',\n",
       "  'Αθήνα',\n",
       "  'Πλήρης απασχόληση'],\n",
       " [21970,\n",
       "  'Marketing Assistant',\n",
       "  'VARIO A.E.',\n",
       "  'Ταύρος Αττικής',\n",
       "  'Πλήρης απασχόληση'],\n",
       " [21807,\n",
       "  'Production Finance Controller',\n",
       "  'OPTIMAL HR GROUP',\n",
       "  'Θεσσαλονίκη',\n",
       "  'Πλήρης απασχόληση'],\n",
       " [20247, 'SQL Developer', 'Comsys CX', 'Κηφισιά', 'Πλήρης απασχόληση']]"
      ]
     },
     "execution_count": 91,
     "metadata": {},
     "output_type": "execute_result"
    }
   ],
   "source": [
    "data = parse_page(soup)\n",
    "data"
   ]
  },
  {
   "cell_type": "markdown",
   "id": "522f7cca",
   "metadata": {
    "ExecuteTime": {
     "end_time": "2021-04-20T09:51:35.896047Z",
     "start_time": "2021-04-20T09:51:35.884471Z"
    }
   },
   "source": [
    "## Retrieve total pages"
   ]
  },
  {
   "cell_type": "code",
   "execution_count": 92,
   "id": "0d3956bf",
   "metadata": {},
   "outputs": [
    {
     "data": {
      "text/plain": [
       "22"
      ]
     },
     "execution_count": 92,
     "metadata": {},
     "output_type": "execute_result"
    }
   ],
   "source": [
    "total_pages = int(soup.find('ul', class_=\"ant-pagination\").find_all('li', class_ = 'ant-pagination-item')[-1].text)\n",
    "total_pages"
   ]
  },
  {
   "cell_type": "code",
   "execution_count": 94,
   "id": "8205631d",
   "metadata": {},
   "outputs": [
    {
     "name": "stdout",
     "output_type": "stream",
     "text": [
      "Iterating page 1\n",
      "https://www.kariera.gr/jobs?title=data+analyst+data+scientist+data+engineer&page=0\n"
     ]
    },
    {
     "name": "stderr",
     "output_type": "stream",
     "text": [
      "/tmp/ipykernel_26720/1992500413.py:5: TqdmDeprecationWarning: This function will be removed in tqdm==5.0.0\n",
      "Please use `tqdm.notebook.tqdm` instead of `tqdm.tqdm_notebook`\n",
      "  for job in tqdm(jobs):\n"
     ]
    },
    {
     "data": {
      "application/vnd.jupyter.widget-view+json": {
       "model_id": "c8e90833bbaf4e28bb6ebaaa8f1a1498",
       "version_major": 2,
       "version_minor": 0
      },
      "text/plain": [
       "  0%|          | 0/24 [00:00<?, ?it/s]"
      ]
     },
     "metadata": {},
     "output_type": "display_data"
    },
    {
     "name": "stdout",
     "output_type": "stream",
     "text": [
      "Iterating page 2\n",
      "https://www.kariera.gr/jobs?title=data+analyst+data+scientist+data+engineer&page=1\n"
     ]
    },
    {
     "data": {
      "application/vnd.jupyter.widget-view+json": {
       "model_id": "8f52dfd4b60d4d5694bf887566e49709",
       "version_major": 2,
       "version_minor": 0
      },
      "text/plain": [
       "  0%|          | 0/24 [00:00<?, ?it/s]"
      ]
     },
     "metadata": {},
     "output_type": "display_data"
    },
    {
     "name": "stdout",
     "output_type": "stream",
     "text": [
      "Iterating page 3\n",
      "https://www.kariera.gr/jobs?title=data+analyst+data+scientist+data+engineer&page=2\n"
     ]
    },
    {
     "data": {
      "application/vnd.jupyter.widget-view+json": {
       "model_id": "596273e21d3f47169ddf5ff2cb09d68c",
       "version_major": 2,
       "version_minor": 0
      },
      "text/plain": [
       "  0%|          | 0/24 [00:00<?, ?it/s]"
      ]
     },
     "metadata": {},
     "output_type": "display_data"
    },
    {
     "name": "stdout",
     "output_type": "stream",
     "text": [
      "Iterating page 4\n",
      "https://www.kariera.gr/jobs?title=data+analyst+data+scientist+data+engineer&page=3\n"
     ]
    },
    {
     "data": {
      "application/vnd.jupyter.widget-view+json": {
       "model_id": "fb2f90ccb1ea4baca86a00b8b21aa016",
       "version_major": 2,
       "version_minor": 0
      },
      "text/plain": [
       "  0%|          | 0/24 [00:00<?, ?it/s]"
      ]
     },
     "metadata": {},
     "output_type": "display_data"
    },
    {
     "name": "stdout",
     "output_type": "stream",
     "text": [
      "Iterating page 5\n",
      "https://www.kariera.gr/jobs?title=data+analyst+data+scientist+data+engineer&page=4\n"
     ]
    },
    {
     "data": {
      "application/vnd.jupyter.widget-view+json": {
       "model_id": "5b0cbbb259d44466b584b3ed8b289d7f",
       "version_major": 2,
       "version_minor": 0
      },
      "text/plain": [
       "  0%|          | 0/24 [00:00<?, ?it/s]"
      ]
     },
     "metadata": {},
     "output_type": "display_data"
    },
    {
     "name": "stdout",
     "output_type": "stream",
     "text": [
      "Iterating page 6\n",
      "https://www.kariera.gr/jobs?title=data+analyst+data+scientist+data+engineer&page=5\n"
     ]
    },
    {
     "data": {
      "application/vnd.jupyter.widget-view+json": {
       "model_id": "5268fca1b5f4474d8c5d4ee5c541529a",
       "version_major": 2,
       "version_minor": 0
      },
      "text/plain": [
       "  0%|          | 0/24 [00:00<?, ?it/s]"
      ]
     },
     "metadata": {},
     "output_type": "display_data"
    },
    {
     "name": "stdout",
     "output_type": "stream",
     "text": [
      "Iterating page 7\n",
      "https://www.kariera.gr/jobs?title=data+analyst+data+scientist+data+engineer&page=6\n"
     ]
    },
    {
     "data": {
      "application/vnd.jupyter.widget-view+json": {
       "model_id": "b11c553a74ab45b5ae23dcfd53726b9b",
       "version_major": 2,
       "version_minor": 0
      },
      "text/plain": [
       "  0%|          | 0/24 [00:00<?, ?it/s]"
      ]
     },
     "metadata": {},
     "output_type": "display_data"
    },
    {
     "name": "stdout",
     "output_type": "stream",
     "text": [
      "Iterating page 8\n",
      "https://www.kariera.gr/jobs?title=data+analyst+data+scientist+data+engineer&page=7\n"
     ]
    },
    {
     "data": {
      "application/vnd.jupyter.widget-view+json": {
       "model_id": "6c491b77a27d4ea897a58f7955f6a99e",
       "version_major": 2,
       "version_minor": 0
      },
      "text/plain": [
       "  0%|          | 0/24 [00:00<?, ?it/s]"
      ]
     },
     "metadata": {},
     "output_type": "display_data"
    },
    {
     "name": "stdout",
     "output_type": "stream",
     "text": [
      "Iterating page 9\n",
      "https://www.kariera.gr/jobs?title=data+analyst+data+scientist+data+engineer&page=8\n"
     ]
    },
    {
     "data": {
      "application/vnd.jupyter.widget-view+json": {
       "model_id": "7a1c3c74fda943719ef413c1f404862e",
       "version_major": 2,
       "version_minor": 0
      },
      "text/plain": [
       "  0%|          | 0/24 [00:00<?, ?it/s]"
      ]
     },
     "metadata": {},
     "output_type": "display_data"
    },
    {
     "name": "stdout",
     "output_type": "stream",
     "text": [
      "Iterating page 10\n",
      "https://www.kariera.gr/jobs?title=data+analyst+data+scientist+data+engineer&page=9\n"
     ]
    },
    {
     "data": {
      "application/vnd.jupyter.widget-view+json": {
       "model_id": "93d5713632b543e6af49c35537a0b9d4",
       "version_major": 2,
       "version_minor": 0
      },
      "text/plain": [
       "  0%|          | 0/24 [00:00<?, ?it/s]"
      ]
     },
     "metadata": {},
     "output_type": "display_data"
    },
    {
     "name": "stdout",
     "output_type": "stream",
     "text": [
      "Iterating page 11\n",
      "https://www.kariera.gr/jobs?title=data+analyst+data+scientist+data+engineer&page=10\n"
     ]
    },
    {
     "data": {
      "application/vnd.jupyter.widget-view+json": {
       "model_id": "afcefb2c332d46318ca50c433a326598",
       "version_major": 2,
       "version_minor": 0
      },
      "text/plain": [
       "  0%|          | 0/24 [00:00<?, ?it/s]"
      ]
     },
     "metadata": {},
     "output_type": "display_data"
    },
    {
     "name": "stdout",
     "output_type": "stream",
     "text": [
      "Iterating page 12\n",
      "https://www.kariera.gr/jobs?title=data+analyst+data+scientist+data+engineer&page=11\n"
     ]
    },
    {
     "data": {
      "application/vnd.jupyter.widget-view+json": {
       "model_id": "1cf35a9ecd574343a3c6861ee0ae53ce",
       "version_major": 2,
       "version_minor": 0
      },
      "text/plain": [
       "  0%|          | 0/24 [00:00<?, ?it/s]"
      ]
     },
     "metadata": {},
     "output_type": "display_data"
    },
    {
     "name": "stdout",
     "output_type": "stream",
     "text": [
      "Iterating page 13\n",
      "https://www.kariera.gr/jobs?title=data+analyst+data+scientist+data+engineer&page=12\n"
     ]
    },
    {
     "data": {
      "application/vnd.jupyter.widget-view+json": {
       "model_id": "1d237ad693d84e25b3c60e69c805f9e3",
       "version_major": 2,
       "version_minor": 0
      },
      "text/plain": [
       "  0%|          | 0/24 [00:00<?, ?it/s]"
      ]
     },
     "metadata": {},
     "output_type": "display_data"
    },
    {
     "name": "stdout",
     "output_type": "stream",
     "text": [
      "Iterating page 14\n",
      "https://www.kariera.gr/jobs?title=data+analyst+data+scientist+data+engineer&page=13\n"
     ]
    },
    {
     "data": {
      "application/vnd.jupyter.widget-view+json": {
       "model_id": "a6e12300e79445b697f45bdf87c31256",
       "version_major": 2,
       "version_minor": 0
      },
      "text/plain": [
       "  0%|          | 0/24 [00:00<?, ?it/s]"
      ]
     },
     "metadata": {},
     "output_type": "display_data"
    },
    {
     "name": "stdout",
     "output_type": "stream",
     "text": [
      "Iterating page 15\n",
      "https://www.kariera.gr/jobs?title=data+analyst+data+scientist+data+engineer&page=14\n"
     ]
    },
    {
     "data": {
      "application/vnd.jupyter.widget-view+json": {
       "model_id": "18906449b6574584a4cc3a9fe5a44313",
       "version_major": 2,
       "version_minor": 0
      },
      "text/plain": [
       "  0%|          | 0/24 [00:00<?, ?it/s]"
      ]
     },
     "metadata": {},
     "output_type": "display_data"
    },
    {
     "name": "stdout",
     "output_type": "stream",
     "text": [
      "Iterating page 16\n",
      "https://www.kariera.gr/jobs?title=data+analyst+data+scientist+data+engineer&page=15\n"
     ]
    },
    {
     "data": {
      "application/vnd.jupyter.widget-view+json": {
       "model_id": "9ca74f3c3dcb4e96b4c5f971a213f28d",
       "version_major": 2,
       "version_minor": 0
      },
      "text/plain": [
       "  0%|          | 0/24 [00:00<?, ?it/s]"
      ]
     },
     "metadata": {},
     "output_type": "display_data"
    },
    {
     "name": "stdout",
     "output_type": "stream",
     "text": [
      "Iterating page 17\n",
      "https://www.kariera.gr/jobs?title=data+analyst+data+scientist+data+engineer&page=16\n"
     ]
    },
    {
     "data": {
      "application/vnd.jupyter.widget-view+json": {
       "model_id": "62fbfe3d4d5f4499a53468cc1fbcc8b3",
       "version_major": 2,
       "version_minor": 0
      },
      "text/plain": [
       "  0%|          | 0/24 [00:00<?, ?it/s]"
      ]
     },
     "metadata": {},
     "output_type": "display_data"
    },
    {
     "name": "stdout",
     "output_type": "stream",
     "text": [
      "Iterating page 18\n",
      "https://www.kariera.gr/jobs?title=data+analyst+data+scientist+data+engineer&page=17\n"
     ]
    },
    {
     "data": {
      "application/vnd.jupyter.widget-view+json": {
       "model_id": "ccbd200f802a42aa8b99e2cb208b44a0",
       "version_major": 2,
       "version_minor": 0
      },
      "text/plain": [
       "  0%|          | 0/24 [00:00<?, ?it/s]"
      ]
     },
     "metadata": {},
     "output_type": "display_data"
    },
    {
     "name": "stdout",
     "output_type": "stream",
     "text": [
      "Iterating page 19\n",
      "https://www.kariera.gr/jobs?title=data+analyst+data+scientist+data+engineer&page=18\n"
     ]
    },
    {
     "data": {
      "application/vnd.jupyter.widget-view+json": {
       "model_id": "1e4e17b5986a49d0926954288e3c68a6",
       "version_major": 2,
       "version_minor": 0
      },
      "text/plain": [
       "  0%|          | 0/24 [00:00<?, ?it/s]"
      ]
     },
     "metadata": {},
     "output_type": "display_data"
    },
    {
     "name": "stdout",
     "output_type": "stream",
     "text": [
      "Iterating page 20\n",
      "https://www.kariera.gr/jobs?title=data+analyst+data+scientist+data+engineer&page=19\n"
     ]
    },
    {
     "data": {
      "application/vnd.jupyter.widget-view+json": {
       "model_id": "cd8d1dfe9f624e8ea1acc68c5536cdf7",
       "version_major": 2,
       "version_minor": 0
      },
      "text/plain": [
       "  0%|          | 0/24 [00:00<?, ?it/s]"
      ]
     },
     "metadata": {},
     "output_type": "display_data"
    },
    {
     "name": "stdout",
     "output_type": "stream",
     "text": [
      "Iterating page 21\n",
      "https://www.kariera.gr/jobs?title=data+analyst+data+scientist+data+engineer&page=20\n"
     ]
    },
    {
     "data": {
      "application/vnd.jupyter.widget-view+json": {
       "model_id": "63417b25a29c49399d57531c64ad0b35",
       "version_major": 2,
       "version_minor": 0
      },
      "text/plain": [
       "  0%|          | 0/24 [00:00<?, ?it/s]"
      ]
     },
     "metadata": {},
     "output_type": "display_data"
    },
    {
     "name": "stdout",
     "output_type": "stream",
     "text": [
      "Iterating page 22\n",
      "https://www.kariera.gr/jobs?title=data+analyst+data+scientist+data+engineer&page=21\n"
     ]
    },
    {
     "data": {
      "application/vnd.jupyter.widget-view+json": {
       "model_id": "3a58d99441ea49c7bfb1bfc5068da064",
       "version_major": 2,
       "version_minor": 0
      },
      "text/plain": [
       "  0%|          | 0/21 [00:00<?, ?it/s]"
      ]
     },
     "metadata": {},
     "output_type": "display_data"
    },
    {
     "data": {
      "text/plain": [
       "525"
      ]
     },
     "execution_count": 94,
     "metadata": {},
     "output_type": "execute_result"
    }
   ],
   "source": [
    "# Retrieve data from all pages\n",
    "all_data = []\n",
    "for page in range(total_pages):\n",
    "    link = main_link + query + '+'.join(job_roles) + page_ext + str(page)\n",
    "    response = requests.get(link, timeout= 15)\n",
    "    if response.status_code == 200:\n",
    "        print(f\"Iterating page {page+1}\")\n",
    "        print(link)\n",
    "        soup = BeautifulSoup(response.content, 'html.parser')\n",
    "        page_data = parse_page(soup)\n",
    "        \n",
    "        all_data.extend(page_data)\n",
    "        \n",
    "len(all_data)"
   ]
  },
  {
   "cell_type": "markdown",
   "id": "c516432b",
   "metadata": {},
   "source": [
    "## Parse to dataframe"
   ]
  },
  {
   "cell_type": "code",
   "execution_count": 116,
   "id": "8863aa16",
   "metadata": {},
   "outputs": [
    {
     "data": {
      "text/html": [
       "<div>\n",
       "<style scoped>\n",
       "    .dataframe tbody tr th:only-of-type {\n",
       "        vertical-align: middle;\n",
       "    }\n",
       "\n",
       "    .dataframe tbody tr th {\n",
       "        vertical-align: top;\n",
       "    }\n",
       "\n",
       "    .dataframe thead th {\n",
       "        text-align: right;\n",
       "    }\n",
       "</style>\n",
       "<table border=\"1\" class=\"dataframe\">\n",
       "  <thead>\n",
       "    <tr style=\"text-align: right;\">\n",
       "      <th></th>\n",
       "      <th>job_id</th>\n",
       "      <th>title</th>\n",
       "      <th>company</th>\n",
       "      <th>location</th>\n",
       "      <th>occupation</th>\n",
       "    </tr>\n",
       "  </thead>\n",
       "  <tbody>\n",
       "    <tr>\n",
       "      <th>0</th>\n",
       "      <td>21851</td>\n",
       "      <td>Software Quality Assurance Engineer</td>\n",
       "      <td>ATOS GREECE</td>\n",
       "      <td>Αθήνα</td>\n",
       "      <td>Πλήρης απασχόληση</td>\n",
       "    </tr>\n",
       "    <tr>\n",
       "      <th>1</th>\n",
       "      <td>21852</td>\n",
       "      <td>Backend Software Development Engineer</td>\n",
       "      <td>ATOS GREECE</td>\n",
       "      <td>Αθήνα</td>\n",
       "      <td>Πλήρης απασχόληση</td>\n",
       "    </tr>\n",
       "    <tr>\n",
       "      <th>2</th>\n",
       "      <td>23402</td>\n",
       "      <td>Software Engineers στη Θέρμη Θεσσαλονίκης</td>\n",
       "      <td>Lidl Ελλάς</td>\n",
       "      <td>Θέρμη</td>\n",
       "      <td>Πλήρης απασχόληση</td>\n",
       "    </tr>\n",
       "    <tr>\n",
       "      <th>3</th>\n",
       "      <td>21998</td>\n",
       "      <td>Senior Cloud Engineer</td>\n",
       "      <td>Executive Level</td>\n",
       "      <td>Αθήνα</td>\n",
       "      <td>Πλήρης απασχόληση</td>\n",
       "    </tr>\n",
       "    <tr>\n",
       "      <th>4</th>\n",
       "      <td>21047</td>\n",
       "      <td>Software Engineer (Python) – Data Scientist</td>\n",
       "      <td>METIS CYBERSPACE TECHNOLOGY SA</td>\n",
       "      <td>Αθήνα</td>\n",
       "      <td>Πλήρης απασχόληση</td>\n",
       "    </tr>\n",
       "    <tr>\n",
       "      <th>...</th>\n",
       "      <td>...</td>\n",
       "      <td>...</td>\n",
       "      <td>...</td>\n",
       "      <td>...</td>\n",
       "      <td>...</td>\n",
       "    </tr>\n",
       "    <tr>\n",
       "      <th>520</th>\n",
       "      <td>22238</td>\n",
       "      <td>Junior Controller / Thessaloniki</td>\n",
       "      <td>Sani/Ikos Group</td>\n",
       "      <td>Θεσσαλονίκη</td>\n",
       "      <td>Πλήρης απασχόληση</td>\n",
       "    </tr>\n",
       "    <tr>\n",
       "      <th>521</th>\n",
       "      <td>22044</td>\n",
       "      <td>Product Manager</td>\n",
       "      <td>WIND HELLAS TELECOMMUNICATIONS</td>\n",
       "      <td>Αθήνα</td>\n",
       "      <td>Πλήρης απασχόληση</td>\n",
       "    </tr>\n",
       "    <tr>\n",
       "      <th>522</th>\n",
       "      <td>21970</td>\n",
       "      <td>Marketing Assistant</td>\n",
       "      <td>VARIO A.E.</td>\n",
       "      <td>Ταύρος Αττικής</td>\n",
       "      <td>Πλήρης απασχόληση</td>\n",
       "    </tr>\n",
       "    <tr>\n",
       "      <th>523</th>\n",
       "      <td>21807</td>\n",
       "      <td>Production Finance Controller</td>\n",
       "      <td>OPTIMAL HR GROUP</td>\n",
       "      <td>Θεσσαλονίκη</td>\n",
       "      <td>Πλήρης απασχόληση</td>\n",
       "    </tr>\n",
       "    <tr>\n",
       "      <th>524</th>\n",
       "      <td>20247</td>\n",
       "      <td>SQL Developer</td>\n",
       "      <td>Comsys CX</td>\n",
       "      <td>Κηφισιά</td>\n",
       "      <td>Πλήρης απασχόληση</td>\n",
       "    </tr>\n",
       "  </tbody>\n",
       "</table>\n",
       "<p>525 rows × 5 columns</p>\n",
       "</div>"
      ],
      "text/plain": [
       "     job_id                                        title  \\\n",
       "0     21851          Software Quality Assurance Engineer   \n",
       "1     21852        Backend Software Development Engineer   \n",
       "2     23402    Software Engineers στη Θέρμη Θεσσαλονίκης   \n",
       "3     21998                        Senior Cloud Engineer   \n",
       "4     21047  Software Engineer (Python) – Data Scientist   \n",
       "..      ...                                          ...   \n",
       "520   22238             Junior Controller / Thessaloniki   \n",
       "521   22044                              Product Manager   \n",
       "522   21970                          Marketing Assistant   \n",
       "523   21807                Production Finance Controller   \n",
       "524   20247                                SQL Developer   \n",
       "\n",
       "                            company        location         occupation  \n",
       "0                       ATOS GREECE           Αθήνα  Πλήρης απασχόληση  \n",
       "1                       ATOS GREECE           Αθήνα  Πλήρης απασχόληση  \n",
       "2                       Lidl Ελλάς            Θέρμη  Πλήρης απασχόληση  \n",
       "3                   Executive Level           Αθήνα  Πλήρης απασχόληση  \n",
       "4    METIS CYBERSPACE TECHNOLOGY SA           Αθήνα  Πλήρης απασχόληση  \n",
       "..                              ...             ...                ...  \n",
       "520                 Sani/Ikos Group     Θεσσαλονίκη  Πλήρης απασχόληση  \n",
       "521  WIND HELLAS TELECOMMUNICATIONS           Αθήνα  Πλήρης απασχόληση  \n",
       "522                      VARIO A.E.  Ταύρος Αττικής  Πλήρης απασχόληση  \n",
       "523                OPTIMAL HR GROUP     Θεσσαλονίκη  Πλήρης απασχόληση  \n",
       "524                       Comsys CX         Κηφισιά  Πλήρης απασχόληση  \n",
       "\n",
       "[525 rows x 5 columns]"
      ]
     },
     "execution_count": 116,
     "metadata": {},
     "output_type": "execute_result"
    }
   ],
   "source": [
    "jobs_df = pd.DataFrame(all_data, columns=[\"job_id\", \"title\", \"company\", \"location\", \"occupation\"])\n",
    "jobs_df"
   ]
  },
  {
   "cell_type": "code",
   "execution_count": 117,
   "id": "f591e239",
   "metadata": {},
   "outputs": [
    {
     "data": {
      "text/html": [
       "<div>\n",
       "<style scoped>\n",
       "    .dataframe tbody tr th:only-of-type {\n",
       "        vertical-align: middle;\n",
       "    }\n",
       "\n",
       "    .dataframe tbody tr th {\n",
       "        vertical-align: top;\n",
       "    }\n",
       "\n",
       "    .dataframe thead th {\n",
       "        text-align: right;\n",
       "    }\n",
       "</style>\n",
       "<table border=\"1\" class=\"dataframe\">\n",
       "  <thead>\n",
       "    <tr style=\"text-align: right;\">\n",
       "      <th></th>\n",
       "      <th>job_id</th>\n",
       "      <th>title</th>\n",
       "      <th>company</th>\n",
       "      <th>location</th>\n",
       "      <th>occupation</th>\n",
       "    </tr>\n",
       "  </thead>\n",
       "  <tbody>\n",
       "    <tr>\n",
       "      <th>0</th>\n",
       "      <td>21851</td>\n",
       "      <td>Software Quality Assurance Engineer</td>\n",
       "      <td>ATOS GREECE</td>\n",
       "      <td>Αθήνα</td>\n",
       "      <td>Πλήρης απασχόληση</td>\n",
       "    </tr>\n",
       "    <tr>\n",
       "      <th>1</th>\n",
       "      <td>21852</td>\n",
       "      <td>Backend Software Development Engineer</td>\n",
       "      <td>ATOS GREECE</td>\n",
       "      <td>Αθήνα</td>\n",
       "      <td>Πλήρης απασχόληση</td>\n",
       "    </tr>\n",
       "    <tr>\n",
       "      <th>2</th>\n",
       "      <td>23402</td>\n",
       "      <td>Software Engineers στη Θέρμη Θεσσαλονίκης</td>\n",
       "      <td>Lidl Ελλάς</td>\n",
       "      <td>Θέρμη</td>\n",
       "      <td>Πλήρης απασχόληση</td>\n",
       "    </tr>\n",
       "    <tr>\n",
       "      <th>3</th>\n",
       "      <td>21998</td>\n",
       "      <td>Senior Cloud Engineer</td>\n",
       "      <td>Executive Level</td>\n",
       "      <td>Αθήνα</td>\n",
       "      <td>Πλήρης απασχόληση</td>\n",
       "    </tr>\n",
       "    <tr>\n",
       "      <th>4</th>\n",
       "      <td>21047</td>\n",
       "      <td>Software Engineer (Python) – Data Scientist</td>\n",
       "      <td>METIS CYBERSPACE TECHNOLOGY SA</td>\n",
       "      <td>Αθήνα</td>\n",
       "      <td>Πλήρης απασχόληση</td>\n",
       "    </tr>\n",
       "    <tr>\n",
       "      <th>...</th>\n",
       "      <td>...</td>\n",
       "      <td>...</td>\n",
       "      <td>...</td>\n",
       "      <td>...</td>\n",
       "      <td>...</td>\n",
       "    </tr>\n",
       "    <tr>\n",
       "      <th>520</th>\n",
       "      <td>22238</td>\n",
       "      <td>Junior Controller / Thessaloniki</td>\n",
       "      <td>Sani/Ikos Group</td>\n",
       "      <td>Θεσσαλονίκη</td>\n",
       "      <td>Πλήρης απασχόληση</td>\n",
       "    </tr>\n",
       "    <tr>\n",
       "      <th>521</th>\n",
       "      <td>22044</td>\n",
       "      <td>Product Manager</td>\n",
       "      <td>WIND HELLAS TELECOMMUNICATIONS</td>\n",
       "      <td>Αθήνα</td>\n",
       "      <td>Πλήρης απασχόληση</td>\n",
       "    </tr>\n",
       "    <tr>\n",
       "      <th>522</th>\n",
       "      <td>21970</td>\n",
       "      <td>Marketing Assistant</td>\n",
       "      <td>VARIO A.E.</td>\n",
       "      <td>Ταύρος Αττικής</td>\n",
       "      <td>Πλήρης απασχόληση</td>\n",
       "    </tr>\n",
       "    <tr>\n",
       "      <th>523</th>\n",
       "      <td>21807</td>\n",
       "      <td>Production Finance Controller</td>\n",
       "      <td>OPTIMAL HR GROUP</td>\n",
       "      <td>Θεσσαλονίκη</td>\n",
       "      <td>Πλήρης απασχόληση</td>\n",
       "    </tr>\n",
       "    <tr>\n",
       "      <th>524</th>\n",
       "      <td>20247</td>\n",
       "      <td>SQL Developer</td>\n",
       "      <td>Comsys CX</td>\n",
       "      <td>Κηφισιά</td>\n",
       "      <td>Πλήρης απασχόληση</td>\n",
       "    </tr>\n",
       "  </tbody>\n",
       "</table>\n",
       "<p>441 rows × 5 columns</p>\n",
       "</div>"
      ],
      "text/plain": [
       "     job_id                                        title  \\\n",
       "0     21851          Software Quality Assurance Engineer   \n",
       "1     21852        Backend Software Development Engineer   \n",
       "2     23402    Software Engineers στη Θέρμη Θεσσαλονίκης   \n",
       "3     21998                        Senior Cloud Engineer   \n",
       "4     21047  Software Engineer (Python) – Data Scientist   \n",
       "..      ...                                          ...   \n",
       "520   22238             Junior Controller / Thessaloniki   \n",
       "521   22044                              Product Manager   \n",
       "522   21970                          Marketing Assistant   \n",
       "523   21807                Production Finance Controller   \n",
       "524   20247                                SQL Developer   \n",
       "\n",
       "                            company        location         occupation  \n",
       "0                       ATOS GREECE           Αθήνα  Πλήρης απασχόληση  \n",
       "1                       ATOS GREECE           Αθήνα  Πλήρης απασχόληση  \n",
       "2                       Lidl Ελλάς            Θέρμη  Πλήρης απασχόληση  \n",
       "3                   Executive Level           Αθήνα  Πλήρης απασχόληση  \n",
       "4    METIS CYBERSPACE TECHNOLOGY SA           Αθήνα  Πλήρης απασχόληση  \n",
       "..                              ...             ...                ...  \n",
       "520                 Sani/Ikos Group     Θεσσαλονίκη  Πλήρης απασχόληση  \n",
       "521  WIND HELLAS TELECOMMUNICATIONS           Αθήνα  Πλήρης απασχόληση  \n",
       "522                      VARIO A.E.  Ταύρος Αττικής  Πλήρης απασχόληση  \n",
       "523                OPTIMAL HR GROUP     Θεσσαλονίκη  Πλήρης απασχόληση  \n",
       "524                       Comsys CX         Κηφισιά  Πλήρης απασχόληση  \n",
       "\n",
       "[441 rows x 5 columns]"
      ]
     },
     "execution_count": 117,
     "metadata": {},
     "output_type": "execute_result"
    }
   ],
   "source": [
    "#remove duplicates because in each page we had the same promoted jobs\n",
    "jobs_df = jobs_df.drop_duplicates('job_id', keep='first')\n",
    "jobs_df"
   ]
  },
  {
   "cell_type": "markdown",
   "id": "b20451cd",
   "metadata": {},
   "source": [
    "## Retrieve content"
   ]
  },
  {
   "cell_type": "code",
   "execution_count": 121,
   "id": "0916dc0d",
   "metadata": {},
   "outputs": [
    {
     "data": {
      "text/plain": [
       "'https://www.kariera.gr/jobs/21851'"
      ]
     },
     "execution_count": 121,
     "metadata": {},
     "output_type": "execute_result"
    }
   ],
   "source": [
    "# URL of a specific job ad\n",
    "job_ad_url = f\"https://www.kariera.gr/jobs/{jobs_df.loc[0, ['job_id']].values[0]}\"\n",
    "job_ad_url"
   ]
  },
  {
   "cell_type": "code",
   "execution_count": 122,
   "id": "9582734d",
   "metadata": {},
   "outputs": [
    {
     "data": {
      "text/plain": [
       "200"
      ]
     },
     "execution_count": 122,
     "metadata": {},
     "output_type": "execute_result"
    }
   ],
   "source": [
    "response = requests.get(job_ad_url, timeout= 15)\n",
    "response.status_code"
   ]
  },
  {
   "cell_type": "code",
   "execution_count": 123,
   "id": "ceee1e46",
   "metadata": {},
   "outputs": [],
   "source": [
    "soup = BeautifulSoup(response.content, 'html.parser')"
   ]
  },
  {
   "cell_type": "code",
   "execution_count": 146,
   "id": "8103c11d",
   "metadata": {},
   "outputs": [
    {
     "name": "stdout",
     "output_type": "stream",
     "text": [
      "\n",
      "\n",
      "\n",
      "Description\n",
      "\n",
      "Atos is a global leader in digital transformation with 105,000 employees and annual revenue of over € 11 billion. European number one in cybersecurity, cloud and high performance computing, the Group provides tailored end-to-end solutions for all industries in 71 countries. A pioneer in decarbonization services and products, Atos is committed to a secure and decarbonized digital for its clients. Atos operates under the brands Atos and Atos|Syntel. Atos is a SE (Societas Europaea), listed on the Next 20 Paris stock index.\n",
      "The purpose of Atos is to help design the future of the information space. Its expertise and services support the development of knowledge, education and research in a multicultural approach and contribute to the development of scientific and technological excellence. Across the world, the Group enables its customers and employees, and members of societies at large to live, work and develop sustainably, in a safe and secure information space. www.atos.net\n",
      "Atos Unify is the Atos brand for communication and collaboration solutions. At the core of the Atos Digital Workplace portfolio, Unify technology enables organizations of all sizes to transform the way they collaborate, creating a more connected and productive workforce which can dramatically improve team performance, individual engagement and business efficiency.\n",
      "Unify products represent a strong heritage of technology innovation, reliability and flexibility. Their award-winning intuitive user experience can be delivered through almost any device and in any combination of cloud or on-premise deployment. Augmented by Atos’ secure digital platforms, vertical solutions and transformation services, they set the global standard for a rich and reliable collaboration experience that empowers teams to deliver extraordinary results.\n",
      " \n",
      "Our largest software development center is located in Athens, employing more than 270 highly skilled software professionals. Additionally, we have a team of over 40 professionals in charge of Global Operation & Service activities.\n",
      " \n",
      "Athens Center of Excellence is seeking for an enthusiastic Quality Assurance Engineer to join our dynamic team.\n",
      " \n",
      "\n",
      "\n",
      "\n",
      "Requirements\n",
      "\n",
      ".\n",
      "Main Responsibilities\n",
      "\n",
      "Analysis, estimation, planning and execution of a test plan for new features and regression activities\n",
      "Test lab systems configuration and maintenance based on complex customer environments and cloud deployments\n",
      "Continuous integration and Automation testing operation\n",
      "Products delivery activities support\n",
      "Identification, documentation and tracking of bugs\n",
      "Identification of product areas requiring quality improvement\n",
      "\n",
      ".\n",
      "Education & Profile\n",
      "\n",
      "University degree in Software Engineering or Computer Science or similar discipline\n",
      "2+ years of professional experience in a Software Engineering position (Quality assurance or SW development )\n",
      "Fluency in English (Proficiency Level)\n",
      "Strong analytical skills and attention to detail\n",
      "Dependable, reliable and passionate about SW quality\n",
      "Ability to accurately estimate tasks and meet aggressive schedules\n",
      "\n",
      ".\n",
      "Technical Skills\n",
      "\n",
      "Good knowledge of software QA methodologies and processes\n",
      "Experience with version control, defect tracking and test management tools\n",
      "Experience in writing clear, concise and comprehensive test plans and test cases\n",
      "Programming skills in at least one scripting language (Bash, Perl, Python)\n",
      "Experience with Linux/Windows OS and Virtualization platforms (VMware)\n",
      "\n",
      ".\n",
      "Additional skills to be considered as advantages\n",
      "\n",
      "Working knowledge of the full application development life cycle and agile methodologies\n",
      "Experience with Test Automation tools and framework (e.g. Jenkins, Selenium, QTP, Sikuli)\n",
      "Programming skills in an Object Oriented language (Java/C++)\n",
      "Experience with performance and/or security testing is a plus\n",
      "ISTQB foundation level or higher\n",
      "\n",
      "\n",
      "\n",
      "\n",
      "Benefits\n",
      "\n",
      "\n",
      "Competitive remuneration package\n",
      "Life & Health Insurance\n",
      "Work in a challenging multinational environment\n",
      "\n",
      "\n",
      "Continuous training opportunities\n",
      "\n",
      " \n",
      "Atos does not discriminate on the basis of race, religion, colour, sex, age, disability or sexual orientation. All recruitment decisions are based solely on qualifications, skills, knowledge and experience and relevant business requirements. We are committed to making reasonable adjustments to the applications process for people with disabilities.\n",
      "Due to the current global COVID-19 pandemic we are all learning to operate in a new and different way. The safety and wellbeing of our current and future employees is and remains a top priority. We are, of course, still committed to growing and developing our organization so we will be continuing to recruit in areas over the coming months, by conducting candidate interviews remotely, using our own digital platform. If you apply for one of our positions, we will screen your application and respond to you as quickly as possible. We are confident that you will understand the measures that we have implemented given the current situation.\n",
      "\n",
      "\n",
      "\n",
      "\n",
      "\n",
      "\n",
      "Description\n",
      "\n",
      "Atos is a global leader in digital transformation with 105,000 employees and annual revenue of over € 11 billion. European number one in cybersecurity, cloud and high performance computing, the Group provides tailored end-to-end solutions for all industries in 71 countries. A pioneer in decarbonization services and products, Atos is committed to a secure and decarbonized digital for its clients. Atos operates under the brands Atos and Atos|Syntel. Atos is a SE (Societas Europaea), listed on the Next 20 Paris stock index.\n",
      "The purpose of Atos is to help design the future of the information space. Its expertise and services support the development of knowledge, education and research in a multicultural approach and contribute to the development of scientific and technological excellence. Across the world, the Group enables its customers and employees, and members of societies at large to live, work and develop sustainably, in a safe and secure information space. www.atos.net\n",
      "Atos Unify is the Atos brand for communication and collaboration solutions. At the core of the Atos Digital Workplace portfolio, Unify technology enables organizations of all sizes to transform the way they collaborate, creating a more connected and productive workforce which can dramatically improve team performance, individual engagement and business efficiency.\n",
      "Unify products represent a strong heritage of technology innovation, reliability and flexibility. Their award-winning intuitive user experience can be delivered through almost any device and in any combination of cloud or on-premise deployment. Augmented by Atos’ secure digital platforms, vertical solutions and transformation services, they set the global standard for a rich and reliable collaboration experience that empowers teams to deliver extraordinary results.\n",
      " \n",
      "Our largest software development center is located in Athens, employing more than 270 highly skilled software professionals. Additionally, we have a team of over 40 professionals in charge of Global Operation & Service activities.\n",
      " \n",
      "Athens Center of Excellence is seeking for an enthusiastic Quality Assurance Engineer to join our dynamic team.\n",
      " \n",
      "\n",
      "\n",
      "\n",
      "Requirements\n",
      "\n",
      ".\n",
      "Main Responsibilities\n",
      "\n",
      "Analysis, estimation, planning and execution of a test plan for new features and regression activities\n",
      "Test lab systems configuration and maintenance based on complex customer environments and cloud deployments\n",
      "Continuous integration and Automation testing operation\n",
      "Products delivery activities support\n",
      "Identification, documentation and tracking of bugs\n",
      "Identification of product areas requiring quality improvement\n",
      "\n",
      ".\n",
      "Education & Profile\n",
      "\n",
      "University degree in Software Engineering or Computer Science or similar discipline\n",
      "2+ years of professional experience in a Software Engineering position (Quality assurance or SW development )\n",
      "Fluency in English (Proficiency Level)\n",
      "Strong analytical skills and attention to detail\n",
      "Dependable, reliable and passionate about SW quality\n",
      "Ability to accurately estimate tasks and meet aggressive schedules\n",
      "\n",
      ".\n",
      "Technical Skills\n",
      "\n",
      "Good knowledge of software QA methodologies and processes\n",
      "Experience with version control, defect tracking and test management tools\n",
      "Experience in writing clear, concise and comprehensive test plans and test cases\n",
      "Programming skills in at least one scripting language (Bash, Perl, Python)\n",
      "Experience with Linux/Windows OS and Virtualization platforms (VMware)\n",
      "\n",
      ".\n",
      "Additional skills to be considered as advantages\n",
      "\n",
      "Working knowledge of the full application development life cycle and agile methodologies\n",
      "Experience with Test Automation tools and framework (e.g. Jenkins, Selenium, QTP, Sikuli)\n",
      "Programming skills in an Object Oriented language (Java/C++)\n",
      "Experience with performance and/or security testing is a plus\n",
      "ISTQB foundation level or higher\n",
      "\n",
      "\n",
      "\n",
      "\n",
      "Benefits\n",
      "\n",
      "\n",
      "Competitive remuneration package\n",
      "Life & Health Insurance\n",
      "Work in a challenging multinational environment\n",
      "\n",
      "\n",
      "Continuous training opportunities\n",
      "\n",
      " \n",
      "Atos does not discriminate on the basis of race, religion, colour, sex, age, disability or sexual orientation. All recruitment decisions are based solely on qualifications, skills, knowledge and experience and relevant business requirements. We are committed to making reasonable adjustments to the applications process for people with disabilities.\n",
      "Due to the current global COVID-19 pandemic we are all learning to operate in a new and different way. The safety and wellbeing of our current and future employees is and remains a top priority. We are, of course, still committed to growing and developing our organization so we will be continuing to recruit in areas over the coming months, by conducting candidate interviews remotely, using our own digital platform. If you apply for one of our positions, we will screen your application and respond to you as quickly as possible. We are confident that you will understand the measures that we have implemented given the current situation.\n",
      "\n",
      "\n",
      "\n",
      "\n",
      "\n",
      "Description\n",
      "\n",
      "Atos is a global leader in digital transformation with 105,000 employees and annual revenue of over € 11 billion. European number one in cybersecurity, cloud and high performance computing, the Group provides tailored end-to-end solutions for all industries in 71 countries. A pioneer in decarbonization services and products, Atos is committed to a secure and decarbonized digital for its clients. Atos operates under the brands Atos and Atos|Syntel. Atos is a SE (Societas Europaea), listed on the Next 20 Paris stock index.\n",
      "The purpose of Atos is to help design the future of the information space. Its expertise and services support the development of knowledge, education and research in a multicultural approach and contribute to the development of scientific and technological excellence. Across the world, the Group enables its customers and employees, and members of societies at large to live, work and develop sustainably, in a safe and secure information space. www.atos.net\n",
      "Atos Unify is the Atos brand for communication and collaboration solutions. At the core of the Atos Digital Workplace portfolio, Unify technology enables organizations of all sizes to transform the way they collaborate, creating a more connected and productive workforce which can dramatically improve team performance, individual engagement and business efficiency.\n",
      "Unify products represent a strong heritage of technology innovation, reliability and flexibility. Their award-winning intuitive user experience can be delivered through almost any device and in any combination of cloud or on-premise deployment. Augmented by Atos’ secure digital platforms, vertical solutions and transformation services, they set the global standard for a rich and reliable collaboration experience that empowers teams to deliver extraordinary results.\n",
      " \n",
      "Our largest software development center is located in Athens, employing more than 270 highly skilled software professionals. Additionally, we have a team of over 40 professionals in charge of Global Operation & Service activities.\n",
      " \n",
      "Athens Center of Excellence is seeking for an enthusiastic Quality Assurance Engineer to join our dynamic team.\n",
      " \n",
      "\n",
      "\n",
      "\n",
      "Requirements\n",
      "\n",
      ".\n",
      "Main Responsibilities\n",
      "\n",
      "Analysis, estimation, planning and execution of a test plan for new features and regression activities\n",
      "Test lab systems configuration and maintenance based on complex customer environments and cloud deployments\n",
      "Continuous integration and Automation testing operation\n",
      "Products delivery activities support\n",
      "Identification, documentation and tracking of bugs\n",
      "Identification of product areas requiring quality improvement\n",
      "\n",
      ".\n",
      "Education & Profile\n",
      "\n",
      "University degree in Software Engineering or Computer Science or similar discipline\n",
      "2+ years of professional experience in a Software Engineering position (Quality assurance or SW development )\n",
      "Fluency in English (Proficiency Level)\n",
      "Strong analytical skills and attention to detail\n",
      "Dependable, reliable and passionate about SW quality\n",
      "Ability to accurately estimate tasks and meet aggressive schedules\n",
      "\n",
      ".\n",
      "Technical Skills\n",
      "\n",
      "Good knowledge of software QA methodologies and processes\n",
      "Experience with version control, defect tracking and test management tools\n",
      "Experience in writing clear, concise and comprehensive test plans and test cases\n",
      "Programming skills in at least one scripting language (Bash, Perl, Python)\n",
      "Experience with Linux/Windows OS and Virtualization platforms (VMware)\n",
      "\n",
      ".\n",
      "Additional skills to be considered as advantages\n",
      "\n",
      "Working knowledge of the full application development life cycle and agile methodologies\n",
      "Experience with Test Automation tools and framework (e.g. Jenkins, Selenium, QTP, Sikuli)\n",
      "Programming skills in an Object Oriented language (Java/C++)\n",
      "Experience with performance and/or security testing is a plus\n",
      "ISTQB foundation level or higher\n",
      "\n",
      "\n",
      "\n",
      "\n",
      "Benefits\n",
      "\n",
      "\n",
      "Competitive remuneration package\n",
      "Life & Health Insurance\n",
      "Work in a challenging multinational environment\n",
      "\n",
      "\n",
      "Continuous training opportunities\n",
      "\n",
      " \n",
      "Atos does not discriminate on the basis of race, religion, colour, sex, age, disability or sexual orientation. All recruitment decisions are based solely on qualifications, skills, knowledge and experience and relevant business requirements. We are committed to making reasonable adjustments to the applications process for people with disabilities.\n",
      "Due to the current global COVID-19 pandemic we are all learning to operate in a new and different way. The safety and wellbeing of our current and future employees is and remains a top priority. We are, of course, still committed to growing and developing our organization so we will be continuing to recruit in areas over the coming months, by conducting candidate interviews remotely, using our own digital platform. If you apply for one of our positions, we will screen your application and respond to you as quickly as possible. We are confident that you will understand the measures that we have implemented given the current situation.\n",
      "\n",
      "\n",
      "\n",
      "\n",
      "Description\n",
      "\n",
      "Atos is a global leader in digital transformation with 105,000 employees and annual revenue of over € 11 billion. European number one in cybersecurity, cloud and high performance computing, the Group provides tailored end-to-end solutions for all industries in 71 countries. A pioneer in decarbonization services and products, Atos is committed to a secure and decarbonized digital for its clients. Atos operates under the brands Atos and Atos|Syntel. Atos is a SE (Societas Europaea), listed on the Next 20 Paris stock index.\n",
      "The purpose of Atos is to help design the future of the information space. Its expertise and services support the development of knowledge, education and research in a multicultural approach and contribute to the development of scientific and technological excellence. Across the world, the Group enables its customers and employees, and members of societies at large to live, work and develop sustainably, in a safe and secure information space. www.atos.net\n",
      "Atos Unify is the Atos brand for communication and collaboration solutions. At the core of the Atos Digital Workplace portfolio, Unify technology enables organizations of all sizes to transform the way they collaborate, creating a more connected and productive workforce which can dramatically improve team performance, individual engagement and business efficiency.\n",
      "Unify products represent a strong heritage of technology innovation, reliability and flexibility. Their award-winning intuitive user experience can be delivered through almost any device and in any combination of cloud or on-premise deployment. Augmented by Atos’ secure digital platforms, vertical solutions and transformation services, they set the global standard for a rich and reliable collaboration experience that empowers teams to deliver extraordinary results.\n",
      " \n",
      "Our largest software development center is located in Athens, employing more than 270 highly skilled software professionals. Additionally, we have a team of over 40 professionals in charge of Global Operation & Service activities.\n",
      " \n",
      "Athens Center of Excellence is seeking for an enthusiastic Quality Assurance Engineer to join our dynamic team.\n",
      " \n",
      "\n",
      "\n",
      "Description\n",
      "\n",
      "Atos is a global leader in digital transformation with 105,000 employees and annual revenue of over € 11 billion. European number one in cybersecurity, cloud and high performance computing, the Group provides tailored end-to-end solutions for all industries in 71 countries. A pioneer in decarbonization services and products, Atos is committed to a secure and decarbonized digital for its clients. Atos operates under the brands Atos and Atos|Syntel. Atos is a SE (Societas Europaea), listed on the Next 20 Paris stock index.\n",
      "The purpose of Atos is to help design the future of the information space. Its expertise and services support the development of knowledge, education and research in a multicultural approach and contribute to the development of scientific and technological excellence. Across the world, the Group enables its customers and employees, and members of societies at large to live, work and develop sustainably, in a safe and secure information space. www.atos.net\n",
      "Atos Unify is the Atos brand for communication and collaboration solutions. At the core of the Atos Digital Workplace portfolio, Unify technology enables organizations of all sizes to transform the way they collaborate, creating a more connected and productive workforce which can dramatically improve team performance, individual engagement and business efficiency.\n",
      "Unify products represent a strong heritage of technology innovation, reliability and flexibility. Their award-winning intuitive user experience can be delivered through almost any device and in any combination of cloud or on-premise deployment. Augmented by Atos’ secure digital platforms, vertical solutions and transformation services, they set the global standard for a rich and reliable collaboration experience that empowers teams to deliver extraordinary results.\n",
      " \n",
      "Our largest software development center is located in Athens, employing more than 270 highly skilled software professionals. Additionally, we have a team of over 40 professionals in charge of Global Operation & Service activities.\n",
      " \n",
      "Athens Center of Excellence is seeking for an enthusiastic Quality Assurance Engineer to join our dynamic team.\n",
      " \n",
      "\n",
      "Atos is a global leader in digital transformation with 105,000 employees and annual revenue of over € 11 billion. European number one in cybersecurity, cloud and high performance computing, the Group provides tailored end-to-end solutions for all industries in 71 countries. A pioneer in decarbonization services and products, Atos is committed to a secure and decarbonized digital for its clients. Atos operates under the brands Atos and Atos|Syntel. Atos is a SE (Societas Europaea), listed on the Next 20 Paris stock index.\n",
      "Atos\n",
      "The purpose of Atos is to help design the future of the information space. Its expertise and services support the development of knowledge, education and research in a multicultural approach and contribute to the development of scientific and technological excellence. Across the world, the Group enables its customers and employees, and members of societies at large to live, work and develop sustainably, in a safe and secure information space. www.atos.net\n",
      "purpose of Atos\n",
      "www.atos.net\n",
      "Atos Unify is the Atos brand for communication and collaboration solutions. At the core of the Atos Digital Workplace portfolio, Unify technology enables organizations of all sizes to transform the way they collaborate, creating a more connected and productive workforce which can dramatically improve team performance, individual engagement and business efficiency.\n",
      "Atos Unify\n",
      "Unify products represent a strong heritage of technology innovation, reliability and flexibility. Their award-winning intuitive user experience can be delivered through almost any device and in any combination of cloud or on-premise deployment. Augmented by Atos’ secure digital platforms, vertical solutions and transformation services, they set the global standard for a rich and reliable collaboration experience that empowers teams to deliver extraordinary results.\n",
      " \n",
      "Our largest software development center is located in Athens, employing more than 270 highly skilled software professionals. Additionally, we have a team of over 40 professionals in charge of Global Operation & Service activities.\n",
      " \n",
      "Athens Center of Excellence is seeking for an enthusiastic Quality Assurance Engineer to join our dynamic team.\n",
      "Athens Center of Excellence\n",
      "Quality Assurance Engineer \n",
      " \n",
      "\n",
      "Requirements\n",
      "\n",
      ".\n",
      "Main Responsibilities\n",
      "\n",
      "Analysis, estimation, planning and execution of a test plan for new features and regression activities\n",
      "Test lab systems configuration and maintenance based on complex customer environments and cloud deployments\n",
      "Continuous integration and Automation testing operation\n",
      "Products delivery activities support\n",
      "Identification, documentation and tracking of bugs\n",
      "Identification of product areas requiring quality improvement\n",
      "\n",
      ".\n",
      "Education & Profile\n",
      "\n",
      "University degree in Software Engineering or Computer Science or similar discipline\n",
      "2+ years of professional experience in a Software Engineering position (Quality assurance or SW development )\n",
      "Fluency in English (Proficiency Level)\n",
      "Strong analytical skills and attention to detail\n",
      "Dependable, reliable and passionate about SW quality\n",
      "Ability to accurately estimate tasks and meet aggressive schedules\n",
      "\n",
      ".\n",
      "Technical Skills\n",
      "\n",
      "Good knowledge of software QA methodologies and processes\n",
      "Experience with version control, defect tracking and test management tools\n",
      "Experience in writing clear, concise and comprehensive test plans and test cases\n",
      "Programming skills in at least one scripting language (Bash, Perl, Python)\n",
      "Experience with Linux/Windows OS and Virtualization platforms (VMware)\n",
      "\n",
      ".\n",
      "Additional skills to be considered as advantages\n",
      "\n",
      "Working knowledge of the full application development life cycle and agile methodologies\n",
      "Experience with Test Automation tools and framework (e.g. Jenkins, Selenium, QTP, Sikuli)\n",
      "Programming skills in an Object Oriented language (Java/C++)\n",
      "Experience with performance and/or security testing is a plus\n",
      "ISTQB foundation level or higher\n",
      "\n",
      "\n",
      "\n",
      "Requirements\n",
      "\n",
      ".\n",
      "Main Responsibilities\n",
      "\n",
      "Analysis, estimation, planning and execution of a test plan for new features and regression activities\n",
      "Test lab systems configuration and maintenance based on complex customer environments and cloud deployments\n",
      "Continuous integration and Automation testing operation\n",
      "Products delivery activities support\n",
      "Identification, documentation and tracking of bugs\n",
      "Identification of product areas requiring quality improvement\n",
      "\n",
      ".\n",
      "Education & Profile\n",
      "\n",
      "University degree in Software Engineering or Computer Science or similar discipline\n",
      "2+ years of professional experience in a Software Engineering position (Quality assurance or SW development )\n",
      "Fluency in English (Proficiency Level)\n",
      "Strong analytical skills and attention to detail\n",
      "Dependable, reliable and passionate about SW quality\n",
      "Ability to accurately estimate tasks and meet aggressive schedules\n",
      "\n",
      ".\n",
      "Technical Skills\n",
      "\n",
      "Good knowledge of software QA methodologies and processes\n",
      "Experience with version control, defect tracking and test management tools\n",
      "Experience in writing clear, concise and comprehensive test plans and test cases\n",
      "Programming skills in at least one scripting language (Bash, Perl, Python)\n",
      "Experience with Linux/Windows OS and Virtualization platforms (VMware)\n",
      "\n",
      ".\n",
      "Additional skills to be considered as advantages\n",
      "\n",
      "Working knowledge of the full application development life cycle and agile methodologies\n",
      "Experience with Test Automation tools and framework (e.g. Jenkins, Selenium, QTP, Sikuli)\n",
      "Programming skills in an Object Oriented language (Java/C++)\n",
      "Experience with performance and/or security testing is a plus\n",
      "ISTQB foundation level or higher\n",
      "\n",
      "\n",
      ".\n",
      ".\n",
      "Main Responsibilities\n",
      "Main Responsibilities\n",
      "\n",
      "Analysis, estimation, planning and execution of a test plan for new features and regression activities\n",
      "Test lab systems configuration and maintenance based on complex customer environments and cloud deployments\n",
      "Continuous integration and Automation testing operation\n",
      "Products delivery activities support\n",
      "Identification, documentation and tracking of bugs\n",
      "Identification of product areas requiring quality improvement\n",
      "\n",
      "Analysis, estimation, planning and execution of a test plan for new features and regression activities\n",
      "Test lab systems configuration and maintenance based on complex customer environments and cloud deployments\n",
      "Continuous integration and Automation testing operation\n",
      "Products delivery activities support\n",
      "Identification, documentation and tracking of bugs\n",
      "Identification of product areas requiring quality improvement\n",
      ".\n",
      ".\n",
      "Education & Profile\n",
      "Education & Profile\n",
      "\n",
      "University degree in Software Engineering or Computer Science or similar discipline\n",
      "2+ years of professional experience in a Software Engineering position (Quality assurance or SW development )\n",
      "Fluency in English (Proficiency Level)\n",
      "Strong analytical skills and attention to detail\n",
      "Dependable, reliable and passionate about SW quality\n",
      "Ability to accurately estimate tasks and meet aggressive schedules\n",
      "\n",
      "University degree in Software Engineering or Computer Science or similar discipline\n",
      "2+ years of professional experience in a Software Engineering position (Quality assurance or SW development )\n",
      "Fluency in English (Proficiency Level)\n",
      "Strong analytical skills and attention to detail\n",
      "Dependable, reliable and passionate about SW quality\n",
      "Ability to accurately estimate tasks and meet aggressive schedules\n",
      ".\n",
      ".\n",
      "Technical Skills\n",
      "Technical Skills\n",
      "\n",
      "Good knowledge of software QA methodologies and processes\n",
      "Experience with version control, defect tracking and test management tools\n",
      "Experience in writing clear, concise and comprehensive test plans and test cases\n",
      "Programming skills in at least one scripting language (Bash, Perl, Python)\n",
      "Experience with Linux/Windows OS and Virtualization platforms (VMware)\n",
      "\n",
      "Good knowledge of software QA methodologies and processes\n",
      "Experience with version control, defect tracking and test management tools\n",
      "Experience in writing clear, concise and comprehensive test plans and test cases\n",
      "Programming skills in at least one scripting language (Bash, Perl, Python)\n",
      "Experience with Linux/Windows OS and Virtualization platforms (VMware)\n",
      ".\n",
      ".\n",
      "Additional skills to be considered as advantages\n",
      "Additional skills to be considered as advantages\n",
      "\n",
      "Working knowledge of the full application development life cycle and agile methodologies\n",
      "Experience with Test Automation tools and framework (e.g. Jenkins, Selenium, QTP, Sikuli)\n",
      "Programming skills in an Object Oriented language (Java/C++)\n",
      "Experience with performance and/or security testing is a plus\n",
      "ISTQB foundation level or higher\n",
      "\n",
      "Working knowledge of the full application development life cycle and agile methodologies\n",
      "Experience with Test Automation tools and framework (e.g. Jenkins, Selenium, QTP, Sikuli)\n",
      "Programming skills in an Object Oriented language (Java/C++)\n",
      "Experience with performance and/or security testing is a plus\n",
      "ISTQB foundation level or higher\n",
      "\n",
      "Benefits\n",
      "\n",
      "\n",
      "Competitive remuneration package\n",
      "Life & Health Insurance\n",
      "Work in a challenging multinational environment\n",
      "\n",
      "\n",
      "Continuous training opportunities\n",
      "\n",
      " \n",
      "Atos does not discriminate on the basis of race, religion, colour, sex, age, disability or sexual orientation. All recruitment decisions are based solely on qualifications, skills, knowledge and experience and relevant business requirements. We are committed to making reasonable adjustments to the applications process for people with disabilities.\n",
      "Due to the current global COVID-19 pandemic we are all learning to operate in a new and different way. The safety and wellbeing of our current and future employees is and remains a top priority. We are, of course, still committed to growing and developing our organization so we will be continuing to recruit in areas over the coming months, by conducting candidate interviews remotely, using our own digital platform. If you apply for one of our positions, we will screen your application and respond to you as quickly as possible. We are confident that you will understand the measures that we have implemented given the current situation.\n",
      "\n",
      "\n",
      "Benefits\n",
      "\n",
      "\n",
      "Competitive remuneration package\n",
      "Life & Health Insurance\n",
      "Work in a challenging multinational environment\n",
      "\n",
      "\n",
      "Continuous training opportunities\n",
      "\n",
      " \n",
      "Atos does not discriminate on the basis of race, religion, colour, sex, age, disability or sexual orientation. All recruitment decisions are based solely on qualifications, skills, knowledge and experience and relevant business requirements. We are committed to making reasonable adjustments to the applications process for people with disabilities.\n",
      "Due to the current global COVID-19 pandemic we are all learning to operate in a new and different way. The safety and wellbeing of our current and future employees is and remains a top priority. We are, of course, still committed to growing and developing our organization so we will be continuing to recruit in areas over the coming months, by conducting candidate interviews remotely, using our own digital platform. If you apply for one of our positions, we will screen your application and respond to you as quickly as possible. We are confident that you will understand the measures that we have implemented given the current situation.\n",
      "\n",
      "\n",
      "Competitive remuneration package\n",
      "Life & Health Insurance\n",
      "Work in a challenging multinational environment\n",
      "\n",
      "Competitive remuneration package\n",
      "Life & Health Insurance\n",
      "Work in a challenging multinational environment\n",
      "\n",
      "Continuous training opportunities\n",
      "\n",
      "Continuous training opportunities\n",
      " \n",
      "Atos does not discriminate on the basis of race, religion, colour, sex, age, disability or sexual orientation. All recruitment decisions are based solely on qualifications, skills, knowledge and experience and relevant business requirements. We are committed to making reasonable adjustments to the applications process for people with disabilities.\n",
      "Due to the current global COVID-19 pandemic we are all learning to operate in a new and different way. The safety and wellbeing of our current and future employees is and remains a top priority. We are, of course, still committed to growing and developing our organization so we will be continuing to recruit in areas over the coming months, by conducting candidate interviews remotely, using our own digital platform. If you apply for one of our positions, we will screen your application and respond to you as quickly as possible. We are confident that you will understand the measures that we have implemented given the current situation.\n",
      "Due to the current global COVID-19 pandemic we are all learning to operate in a new and different way. The safety and wellbeing of our current and future employees is and remains a top priority. We are, of course, still committed to growing and developing our organization so we will be continuing to recruit in areas over the coming months, by conducting candidate interviews remotely, using our own digital platform. If you apply for one of our positions, we will screen your application and respond to you as quickly as possible. We are confident that you will understand the measures that we have implemented given the current situation.\n"
     ]
    },
    {
     "data": {
      "text/plain": [
       "''"
      ]
     },
     "execution_count": 146,
     "metadata": {},
     "output_type": "execute_result"
    }
   ],
   "source": [
    "description_div = soup.find('div', attrs={'data-testid': 'html-renderer-job-main-body-text'})\n",
    "descripition = ''\n",
    "# <div class=\"__2DY4wJ3z hi8OBmAZ\" data-testid=\"html-renderer-job-main-body-text\"><div>\n",
    "for item in description_div.find_all():\n",
    "    print(item.text)\n",
    "    \n",
    "descripition    "
   ]
  },
  {
   "cell_type": "code",
   "execution_count": 137,
   "id": "efd70ec0",
   "metadata": {},
   "outputs": [],
   "source": [
    "def get_description (job_id):\n",
    "    sleep(0.6)\n",
    "    job_ad_url = f\"https://www.kariera.gr/jobs/{job_id}\"\n",
    "    response = requests.get(job_ad_url, timeout= 15)\n",
    "    print(f\"Retrieving content for {job_ad_url}\")\n",
    "    if response.status_code == 200:\n",
    "        \n",
    "        soup = BeautifulSoup(response.content, 'html.parser')\n",
    "        \n",
    "        description_div = soup.find('div', attrs={'data-testid': 'html-renderer-job-main-body-text'})\n",
    "        descripition = ''\n",
    "        # <div class=\"__2DY4wJ3z hi8OBmAZ\" data-testid=\"html-renderer-job-main-body-text\"><div>\n",
    "        for item in description_div.find_all():\n",
    "            descripition+=item.text\n",
    "\n",
    "        return descripition   \n",
    "    else:\n",
    "        print(f\"failed\")"
   ]
  },
  {
   "cell_type": "code",
   "execution_count": 144,
   "id": "d5466639",
   "metadata": {},
   "outputs": [
    {
     "name": "stdout",
     "output_type": "stream",
     "text": [
      "Retrieving content for https://www.kariera.gr/jobs/21851\n",
      "Retrieving content for https://www.kariera.gr/jobs/21852\n",
      "Retrieving content for https://www.kariera.gr/jobs/23402\n",
      "Retrieving content for https://www.kariera.gr/jobs/21998\n",
      "Retrieving content for https://www.kariera.gr/jobs/21047\n",
      "Retrieving content for https://www.kariera.gr/jobs/24349\n",
      "Retrieving content for https://www.kariera.gr/jobs/24345\n",
      "Retrieving content for https://www.kariera.gr/jobs/24625\n",
      "Retrieving content for https://www.kariera.gr/jobs/20169\n",
      "Retrieving content for https://www.kariera.gr/jobs/25237\n",
      "Retrieving content for https://www.kariera.gr/jobs/24017\n",
      "Retrieving content for https://www.kariera.gr/jobs/21092\n",
      "Retrieving content for https://www.kariera.gr/jobs/25247\n",
      "Retrieving content for https://www.kariera.gr/jobs/23390\n",
      "Retrieving content for https://www.kariera.gr/jobs/20689\n",
      "Retrieving content for https://www.kariera.gr/jobs/20173\n",
      "Retrieving content for https://www.kariera.gr/jobs/20163\n",
      "Retrieving content for https://www.kariera.gr/jobs/20164\n",
      "Retrieving content for https://www.kariera.gr/jobs/23092\n",
      "Retrieving content for https://www.kariera.gr/jobs/23585\n",
      "Retrieving content for https://www.kariera.gr/jobs/25243\n",
      "Retrieving content for https://www.kariera.gr/jobs/25238\n",
      "Retrieving content for https://www.kariera.gr/jobs/22677\n",
      "Retrieving content for https://www.kariera.gr/jobs/23317\n",
      "Retrieving content for https://www.kariera.gr/jobs/20416\n",
      "Retrieving content for https://www.kariera.gr/jobs/25183\n",
      "Retrieving content for https://www.kariera.gr/jobs/20231\n",
      "Retrieving content for https://www.kariera.gr/jobs/20151\n",
      "Retrieving content for https://www.kariera.gr/jobs/23786\n",
      "Retrieving content for https://www.kariera.gr/jobs/21179\n",
      "Retrieving content for https://www.kariera.gr/jobs/20565\n",
      "Retrieving content for https://www.kariera.gr/jobs/22701\n",
      "Retrieving content for https://www.kariera.gr/jobs/21058\n",
      "Retrieving content for https://www.kariera.gr/jobs/25015\n",
      "Retrieving content for https://www.kariera.gr/jobs/25154\n",
      "Retrieving content for https://www.kariera.gr/jobs/24536\n",
      "Retrieving content for https://www.kariera.gr/jobs/24394\n",
      "Retrieving content for https://www.kariera.gr/jobs/24143\n",
      "Retrieving content for https://www.kariera.gr/jobs/24093\n",
      "Retrieving content for https://www.kariera.gr/jobs/23887\n",
      "Retrieving content for https://www.kariera.gr/jobs/23392\n",
      "Retrieving content for https://www.kariera.gr/jobs/22702\n",
      "Retrieving content for https://www.kariera.gr/jobs/22328\n",
      "Retrieving content for https://www.kariera.gr/jobs/22219\n",
      "Retrieving content for https://www.kariera.gr/jobs/21539\n",
      "Retrieving content for https://www.kariera.gr/jobs/21257\n",
      "Retrieving content for https://www.kariera.gr/jobs/21246\n",
      "Retrieving content for https://www.kariera.gr/jobs/20513\n",
      "Retrieving content for https://www.kariera.gr/jobs/20425\n",
      "Retrieving content for https://www.kariera.gr/jobs/20331\n",
      "Retrieving content for https://www.kariera.gr/jobs/20286\n",
      "Retrieving content for https://www.kariera.gr/jobs/20284\n",
      "Retrieving content for https://www.kariera.gr/jobs/20159\n",
      "Retrieving content for https://www.kariera.gr/jobs/20157\n",
      "Retrieving content for https://www.kariera.gr/jobs/24361\n",
      "Retrieving content for https://www.kariera.gr/jobs/25198\n",
      "Retrieving content for https://www.kariera.gr/jobs/23791\n",
      "Retrieving content for https://www.kariera.gr/jobs/25246\n",
      "Retrieving content for https://www.kariera.gr/jobs/25159\n",
      "Retrieving content for https://www.kariera.gr/jobs/25152\n",
      "Retrieving content for https://www.kariera.gr/jobs/24471\n",
      "Retrieving content for https://www.kariera.gr/jobs/24358\n",
      "Retrieving content for https://www.kariera.gr/jobs/24333\n",
      "Retrieving content for https://www.kariera.gr/jobs/24140\n",
      "Retrieving content for https://www.kariera.gr/jobs/24081\n",
      "Retrieving content for https://www.kariera.gr/jobs/24018\n",
      "Retrieving content for https://www.kariera.gr/jobs/23775\n",
      "Retrieving content for https://www.kariera.gr/jobs/23645\n",
      "Retrieving content for https://www.kariera.gr/jobs/23642\n",
      "Retrieving content for https://www.kariera.gr/jobs/23219\n",
      "Retrieving content for https://www.kariera.gr/jobs/22468\n",
      "Retrieving content for https://www.kariera.gr/jobs/20592\n",
      "Retrieving content for https://www.kariera.gr/jobs/22029\n",
      "Retrieving content for https://www.kariera.gr/jobs/21880\n",
      "Retrieving content for https://www.kariera.gr/jobs/21853\n",
      "Retrieving content for https://www.kariera.gr/jobs/21854\n",
      "Retrieving content for https://www.kariera.gr/jobs/21631\n",
      "Retrieving content for https://www.kariera.gr/jobs/21063\n",
      "Retrieving content for https://www.kariera.gr/jobs/20977\n",
      "Retrieving content for https://www.kariera.gr/jobs/20605\n",
      "Retrieving content for https://www.kariera.gr/jobs/20540\n",
      "Retrieving content for https://www.kariera.gr/jobs/20243\n",
      "Retrieving content for https://www.kariera.gr/jobs/24015\n",
      "Retrieving content for https://www.kariera.gr/jobs/23718\n",
      "Retrieving content for https://www.kariera.gr/jobs/25242\n",
      "Retrieving content for https://www.kariera.gr/jobs/21734\n",
      "Retrieving content for https://www.kariera.gr/jobs/21732\n",
      "Retrieving content for https://www.kariera.gr/jobs/24612\n",
      "Retrieving content for https://www.kariera.gr/jobs/24120\n",
      "Retrieving content for https://www.kariera.gr/jobs/23858\n",
      "Retrieving content for https://www.kariera.gr/jobs/22939\n",
      "Retrieving content for https://www.kariera.gr/jobs/22352\n",
      "Retrieving content for https://www.kariera.gr/jobs/25410\n",
      "Retrieving content for https://www.kariera.gr/jobs/23929\n",
      "Retrieving content for https://www.kariera.gr/jobs/23800\n",
      "Retrieving content for https://www.kariera.gr/jobs/23793\n",
      "Retrieving content for https://www.kariera.gr/jobs/23739\n",
      "Retrieving content for https://www.kariera.gr/jobs/23152\n",
      "Retrieving content for https://www.kariera.gr/jobs/21815\n",
      "Retrieving content for https://www.kariera.gr/jobs/21132\n",
      "Retrieving content for https://www.kariera.gr/jobs/20251\n",
      "Retrieving content for https://www.kariera.gr/jobs/13219\n",
      "Retrieving content for https://www.kariera.gr/jobs/25342\n",
      "Retrieving content for https://www.kariera.gr/jobs/25505\n",
      "Retrieving content for https://www.kariera.gr/jobs/25444\n",
      "Retrieving content for https://www.kariera.gr/jobs/25343\n",
      "Retrieving content for https://www.kariera.gr/jobs/24519\n",
      "Retrieving content for https://www.kariera.gr/jobs/25253\n",
      "Retrieving content for https://www.kariera.gr/jobs/25236\n",
      "Retrieving content for https://www.kariera.gr/jobs/25174\n",
      "Retrieving content for https://www.kariera.gr/jobs/25178\n",
      "Retrieving content for https://www.kariera.gr/jobs/25046\n",
      "Retrieving content for https://www.kariera.gr/jobs/24990\n",
      "Retrieving content for https://www.kariera.gr/jobs/24795\n",
      "Retrieving content for https://www.kariera.gr/jobs/24758\n",
      "Retrieving content for https://www.kariera.gr/jobs/24483\n",
      "Retrieving content for https://www.kariera.gr/jobs/24402\n",
      "Retrieving content for https://www.kariera.gr/jobs/24393\n",
      "Retrieving content for https://www.kariera.gr/jobs/24395\n",
      "Retrieving content for https://www.kariera.gr/jobs/24188\n",
      "Retrieving content for https://www.kariera.gr/jobs/24036\n",
      "Retrieving content for https://www.kariera.gr/jobs/24012\n",
      "Retrieving content for https://www.kariera.gr/jobs/23832\n",
      "Retrieving content for https://www.kariera.gr/jobs/23811\n",
      "Retrieving content for https://www.kariera.gr/jobs/23788\n",
      "Retrieving content for https://www.kariera.gr/jobs/23640\n",
      "Retrieving content for https://www.kariera.gr/jobs/23280\n",
      "Retrieving content for https://www.kariera.gr/jobs/23089\n",
      "Retrieving content for https://www.kariera.gr/jobs/22982\n",
      "Retrieving content for https://www.kariera.gr/jobs/22798\n",
      "Retrieving content for https://www.kariera.gr/jobs/22709\n",
      "Retrieving content for https://www.kariera.gr/jobs/22680\n",
      "Retrieving content for https://www.kariera.gr/jobs/22625\n",
      "Retrieving content for https://www.kariera.gr/jobs/22251\n",
      "Retrieving content for https://www.kariera.gr/jobs/21958\n",
      "Retrieving content for https://www.kariera.gr/jobs/21745\n",
      "Retrieving content for https://www.kariera.gr/jobs/21740\n",
      "Retrieving content for https://www.kariera.gr/jobs/21540\n",
      "Retrieving content for https://www.kariera.gr/jobs/21538\n",
      "Retrieving content for https://www.kariera.gr/jobs/21552\n",
      "Retrieving content for https://www.kariera.gr/jobs/21332\n",
      "Retrieving content for https://www.kariera.gr/jobs/21252\n",
      "Retrieving content for https://www.kariera.gr/jobs/21123\n",
      "Retrieving content for https://www.kariera.gr/jobs/20397\n"
     ]
    },
    {
     "name": "stdout",
     "output_type": "stream",
     "text": [
      "Retrieving content for https://www.kariera.gr/jobs/20864\n",
      "Retrieving content for https://www.kariera.gr/jobs/20762\n",
      "Retrieving content for https://www.kariera.gr/jobs/20681\n",
      "Retrieving content for https://www.kariera.gr/jobs/20594\n",
      "Retrieving content for https://www.kariera.gr/jobs/20568\n",
      "Retrieving content for https://www.kariera.gr/jobs/20580\n",
      "Retrieving content for https://www.kariera.gr/jobs/20531\n",
      "Retrieving content for https://www.kariera.gr/jobs/20453\n",
      "Retrieving content for https://www.kariera.gr/jobs/20371\n",
      "Retrieving content for https://www.kariera.gr/jobs/20252\n",
      "Retrieving content for https://www.kariera.gr/jobs/22767\n",
      "Retrieving content for https://www.kariera.gr/jobs/25348\n",
      "Retrieving content for https://www.kariera.gr/jobs/25040\n",
      "Retrieving content for https://www.kariera.gr/jobs/24946\n",
      "Retrieving content for https://www.kariera.gr/jobs/24078\n",
      "Retrieving content for https://www.kariera.gr/jobs/24749\n",
      "Retrieving content for https://www.kariera.gr/jobs/24661\n",
      "Retrieving content for https://www.kariera.gr/jobs/24470\n",
      "Retrieving content for https://www.kariera.gr/jobs/24452\n",
      "Retrieving content for https://www.kariera.gr/jobs/24347\n",
      "Retrieving content for https://www.kariera.gr/jobs/24335\n",
      "Retrieving content for https://www.kariera.gr/jobs/24234\n",
      "Retrieving content for https://www.kariera.gr/jobs/24200\n",
      "Retrieving content for https://www.kariera.gr/jobs/24142\n",
      "Retrieving content for https://www.kariera.gr/jobs/24134\n",
      "Retrieving content for https://www.kariera.gr/jobs/24080\n",
      "Retrieving content for https://www.kariera.gr/jobs/24079\n",
      "Retrieving content for https://www.kariera.gr/jobs/24076\n",
      "Retrieving content for https://www.kariera.gr/jobs/24075\n",
      "Retrieving content for https://www.kariera.gr/jobs/24074\n",
      "Retrieving content for https://www.kariera.gr/jobs/24073\n",
      "Retrieving content for https://www.kariera.gr/jobs/24051\n",
      "Retrieving content for https://www.kariera.gr/jobs/24043\n",
      "Retrieving content for https://www.kariera.gr/jobs/24030\n",
      "Retrieving content for https://www.kariera.gr/jobs/24014\n",
      "Retrieving content for https://www.kariera.gr/jobs/23994\n",
      "Retrieving content for https://www.kariera.gr/jobs/18152\n",
      "Retrieving content for https://www.kariera.gr/jobs/23925\n",
      "Retrieving content for https://www.kariera.gr/jobs/23926\n",
      "Retrieving content for https://www.kariera.gr/jobs/23927\n",
      "Retrieving content for https://www.kariera.gr/jobs/23928\n",
      "Retrieving content for https://www.kariera.gr/jobs/23932\n",
      "Retrieving content for https://www.kariera.gr/jobs/23465\n",
      "Retrieving content for https://www.kariera.gr/jobs/23871\n",
      "Retrieving content for https://www.kariera.gr/jobs/23830\n",
      "Retrieving content for https://www.kariera.gr/jobs/23770\n",
      "Retrieving content for https://www.kariera.gr/jobs/23795\n",
      "Retrieving content for https://www.kariera.gr/jobs/23790\n",
      "Retrieving content for https://www.kariera.gr/jobs/23526\n",
      "Retrieving content for https://www.kariera.gr/jobs/23409\n",
      "Retrieving content for https://www.kariera.gr/jobs/23453\n",
      "Retrieving content for https://www.kariera.gr/jobs/23417\n",
      "Retrieving content for https://www.kariera.gr/jobs/23408\n",
      "Retrieving content for https://www.kariera.gr/jobs/23267\n",
      "Retrieving content for https://www.kariera.gr/jobs/23255\n",
      "Retrieving content for https://www.kariera.gr/jobs/23185\n",
      "Retrieving content for https://www.kariera.gr/jobs/23114\n",
      "Retrieving content for https://www.kariera.gr/jobs/23055\n",
      "Retrieving content for https://www.kariera.gr/jobs/22971\n",
      "Retrieving content for https://www.kariera.gr/jobs/22969\n",
      "Retrieving content for https://www.kariera.gr/jobs/22968\n",
      "Retrieving content for https://www.kariera.gr/jobs/22951\n",
      "Retrieving content for https://www.kariera.gr/jobs/22947\n",
      "Retrieving content for https://www.kariera.gr/jobs/22922\n",
      "Retrieving content for https://www.kariera.gr/jobs/22918\n",
      "Retrieving content for https://www.kariera.gr/jobs/22896\n",
      "Retrieving content for https://www.kariera.gr/jobs/22769\n",
      "Retrieving content for https://www.kariera.gr/jobs/22721\n",
      "Retrieving content for https://www.kariera.gr/jobs/22705\n",
      "Retrieving content for https://www.kariera.gr/jobs/22591\n",
      "Retrieving content for https://www.kariera.gr/jobs/22590\n",
      "Retrieving content for https://www.kariera.gr/jobs/22564\n",
      "Retrieving content for https://www.kariera.gr/jobs/22544\n",
      "Retrieving content for https://www.kariera.gr/jobs/22554\n",
      "Retrieving content for https://www.kariera.gr/jobs/22547\n",
      "Retrieving content for https://www.kariera.gr/jobs/22530\n",
      "Retrieving content for https://www.kariera.gr/jobs/22289\n",
      "Retrieving content for https://www.kariera.gr/jobs/22288\n",
      "Retrieving content for https://www.kariera.gr/jobs/22263\n",
      "Retrieving content for https://www.kariera.gr/jobs/22259\n",
      "Retrieving content for https://www.kariera.gr/jobs/22257\n",
      "Retrieving content for https://www.kariera.gr/jobs/22256\n",
      "Retrieving content for https://www.kariera.gr/jobs/22255\n",
      "Retrieving content for https://www.kariera.gr/jobs/22244\n",
      "Retrieving content for https://www.kariera.gr/jobs/21992\n",
      "Retrieving content for https://www.kariera.gr/jobs/21991\n",
      "Retrieving content for https://www.kariera.gr/jobs/21877\n",
      "Retrieving content for https://www.kariera.gr/jobs/21874\n",
      "Retrieving content for https://www.kariera.gr/jobs/21648\n",
      "Retrieving content for https://www.kariera.gr/jobs/21590\n",
      "Retrieving content for https://www.kariera.gr/jobs/21569\n",
      "Retrieving content for https://www.kariera.gr/jobs/21568\n",
      "Retrieving content for https://www.kariera.gr/jobs/21557\n",
      "Retrieving content for https://www.kariera.gr/jobs/21545\n",
      "Retrieving content for https://www.kariera.gr/jobs/21546\n",
      "Retrieving content for https://www.kariera.gr/jobs/21547\n",
      "Retrieving content for https://www.kariera.gr/jobs/21549\n",
      "Retrieving content for https://www.kariera.gr/jobs/21550\n",
      "Retrieving content for https://www.kariera.gr/jobs/21461\n",
      "Retrieving content for https://www.kariera.gr/jobs/21445\n",
      "Retrieving content for https://www.kariera.gr/jobs/21367\n",
      "Retrieving content for https://www.kariera.gr/jobs/21395\n",
      "Retrieving content for https://www.kariera.gr/jobs/21286\n",
      "Retrieving content for https://www.kariera.gr/jobs/21251\n",
      "Retrieving content for https://www.kariera.gr/jobs/21157\n",
      "Retrieving content for https://www.kariera.gr/jobs/21116\n",
      "Retrieving content for https://www.kariera.gr/jobs/21008\n",
      "Retrieving content for https://www.kariera.gr/jobs/21060\n",
      "Retrieving content for https://www.kariera.gr/jobs/20975\n",
      "Retrieving content for https://www.kariera.gr/jobs/20784\n",
      "Retrieving content for https://www.kariera.gr/jobs/20724\n",
      "Retrieving content for https://www.kariera.gr/jobs/20604\n",
      "Retrieving content for https://www.kariera.gr/jobs/20377\n",
      "Retrieving content for https://www.kariera.gr/jobs/20583\n",
      "Retrieving content for https://www.kariera.gr/jobs/20558\n",
      "Retrieving content for https://www.kariera.gr/jobs/20535\n",
      "Retrieving content for https://www.kariera.gr/jobs/20515\n",
      "Retrieving content for https://www.kariera.gr/jobs/20189\n",
      "Retrieving content for https://www.kariera.gr/jobs/20158\n",
      "Retrieving content for https://www.kariera.gr/jobs/20144\n",
      "Retrieving content for https://www.kariera.gr/jobs/24723\n",
      "Retrieving content for https://www.kariera.gr/jobs/24664\n",
      "Retrieving content for https://www.kariera.gr/jobs/22325\n",
      "Retrieving content for https://www.kariera.gr/jobs/21097\n",
      "Retrieving content for https://www.kariera.gr/jobs/24924\n",
      "Retrieving content for https://www.kariera.gr/jobs/23122\n",
      "Retrieving content for https://www.kariera.gr/jobs/23886\n",
      "Retrieving content for https://www.kariera.gr/jobs/25535\n",
      "Retrieving content for https://www.kariera.gr/jobs/25611\n",
      "Retrieving content for https://www.kariera.gr/jobs/24117\n",
      "Retrieving content for https://www.kariera.gr/jobs/25446\n",
      "Retrieving content for https://www.kariera.gr/jobs/20552\n",
      "Retrieving content for https://www.kariera.gr/jobs/24505\n",
      "Retrieving content for https://www.kariera.gr/jobs/23501\n",
      "Retrieving content for https://www.kariera.gr/jobs/22904\n",
      "Retrieving content for https://www.kariera.gr/jobs/21454\n",
      "Retrieving content for https://www.kariera.gr/jobs/24614\n",
      "Retrieving content for https://www.kariera.gr/jobs/23707\n",
      "Retrieving content for https://www.kariera.gr/jobs/22965\n",
      "Retrieving content for https://www.kariera.gr/jobs/21669\n",
      "Retrieving content for https://www.kariera.gr/jobs/21509\n",
      "Retrieving content for https://www.kariera.gr/jobs/20527\n",
      "Retrieving content for https://www.kariera.gr/jobs/25508\n",
      "Retrieving content for https://www.kariera.gr/jobs/24896\n"
     ]
    },
    {
     "name": "stdout",
     "output_type": "stream",
     "text": [
      "Retrieving content for https://www.kariera.gr/jobs/24557\n",
      "Retrieving content for https://www.kariera.gr/jobs/24101\n",
      "Retrieving content for https://www.kariera.gr/jobs/23881\n",
      "Retrieving content for https://www.kariera.gr/jobs/21551\n",
      "Retrieving content for https://www.kariera.gr/jobs/22626\n",
      "Retrieving content for https://www.kariera.gr/jobs/23148\n",
      "Retrieving content for https://www.kariera.gr/jobs/21346\n",
      "Retrieving content for https://www.kariera.gr/jobs/24949\n",
      "Retrieving content for https://www.kariera.gr/jobs/24921\n",
      "Retrieving content for https://www.kariera.gr/jobs/22759\n",
      "Retrieving content for https://www.kariera.gr/jobs/21167\n",
      "Retrieving content for https://www.kariera.gr/jobs/20381\n",
      "Retrieving content for https://www.kariera.gr/jobs/22333\n",
      "Retrieving content for https://www.kariera.gr/jobs/21389\n",
      "Retrieving content for https://www.kariera.gr/jobs/20292\n",
      "Retrieving content for https://www.kariera.gr/jobs/23841\n",
      "Retrieving content for https://www.kariera.gr/jobs/25560\n",
      "Retrieving content for https://www.kariera.gr/jobs/25240\n",
      "Retrieving content for https://www.kariera.gr/jobs/24487\n",
      "Retrieving content for https://www.kariera.gr/jobs/23332\n",
      "Retrieving content for https://www.kariera.gr/jobs/22085\n",
      "Retrieving content for https://www.kariera.gr/jobs/21183\n",
      "Retrieving content for https://www.kariera.gr/jobs/21182\n",
      "Retrieving content for https://www.kariera.gr/jobs/23223\n",
      "Retrieving content for https://www.kariera.gr/jobs/24942\n",
      "Retrieving content for https://www.kariera.gr/jobs/24092\n",
      "Retrieving content for https://www.kariera.gr/jobs/24035\n",
      "Retrieving content for https://www.kariera.gr/jobs/23898\n",
      "Retrieving content for https://www.kariera.gr/jobs/20338\n",
      "Retrieving content for https://www.kariera.gr/jobs/24521\n",
      "Retrieving content for https://www.kariera.gr/jobs/24085\n",
      "Retrieving content for https://www.kariera.gr/jobs/24082\n",
      "Retrieving content for https://www.kariera.gr/jobs/22651\n",
      "Retrieving content for https://www.kariera.gr/jobs/23086\n",
      "Retrieving content for https://www.kariera.gr/jobs/22992\n",
      "Retrieving content for https://www.kariera.gr/jobs/22993\n",
      "Retrieving content for https://www.kariera.gr/jobs/22014\n",
      "Retrieving content for https://www.kariera.gr/jobs/21114\n",
      "Retrieving content for https://www.kariera.gr/jobs/20948\n",
      "Retrieving content for https://www.kariera.gr/jobs/20193\n",
      "Retrieving content for https://www.kariera.gr/jobs/20086\n",
      "Retrieving content for https://www.kariera.gr/jobs/25244\n",
      "Retrieving content for https://www.kariera.gr/jobs/25197\n",
      "Retrieving content for https://www.kariera.gr/jobs/24363\n",
      "Retrieving content for https://www.kariera.gr/jobs/24149\n",
      "Retrieving content for https://www.kariera.gr/jobs/24099\n",
      "Retrieving content for https://www.kariera.gr/jobs/24041\n",
      "Retrieving content for https://www.kariera.gr/jobs/23987\n",
      "Retrieving content for https://www.kariera.gr/jobs/23801\n",
      "Retrieving content for https://www.kariera.gr/jobs/23787\n",
      "Retrieving content for https://www.kariera.gr/jobs/23774\n",
      "Retrieving content for https://www.kariera.gr/jobs/23713\n",
      "Retrieving content for https://www.kariera.gr/jobs/23590\n",
      "Retrieving content for https://www.kariera.gr/jobs/23222\n",
      "Retrieving content for https://www.kariera.gr/jobs/23082\n",
      "Retrieving content for https://www.kariera.gr/jobs/22761\n",
      "Retrieving content for https://www.kariera.gr/jobs/22692\n",
      "Retrieving content for https://www.kariera.gr/jobs/22639\n",
      "Retrieving content for https://www.kariera.gr/jobs/22008\n",
      "Retrieving content for https://www.kariera.gr/jobs/21863\n",
      "Retrieving content for https://www.kariera.gr/jobs/21646\n",
      "Retrieving content for https://www.kariera.gr/jobs/21645\n",
      "Retrieving content for https://www.kariera.gr/jobs/21613\n",
      "Retrieving content for https://www.kariera.gr/jobs/21429\n",
      "Retrieving content for https://www.kariera.gr/jobs/20946\n",
      "Retrieving content for https://www.kariera.gr/jobs/21053\n",
      "Retrieving content for https://www.kariera.gr/jobs/20937\n",
      "Retrieving content for https://www.kariera.gr/jobs/20938\n",
      "Retrieving content for https://www.kariera.gr/jobs/20838\n",
      "Retrieving content for https://www.kariera.gr/jobs/20758\n",
      "Retrieving content for https://www.kariera.gr/jobs/20514\n",
      "Retrieving content for https://www.kariera.gr/jobs/25600\n",
      "Retrieving content for https://www.kariera.gr/jobs/25492\n",
      "Retrieving content for https://www.kariera.gr/jobs/25414\n",
      "Retrieving content for https://www.kariera.gr/jobs/25302\n",
      "Retrieving content for https://www.kariera.gr/jobs/25214\n",
      "Retrieving content for https://www.kariera.gr/jobs/25051\n",
      "Retrieving content for https://www.kariera.gr/jobs/24901\n",
      "Retrieving content for https://www.kariera.gr/jobs/24772\n",
      "Retrieving content for https://www.kariera.gr/jobs/24422\n",
      "Retrieving content for https://www.kariera.gr/jobs/24391\n",
      "Retrieving content for https://www.kariera.gr/jobs/24344\n",
      "Retrieving content for https://www.kariera.gr/jobs/24251\n",
      "Retrieving content for https://www.kariera.gr/jobs/24040\n",
      "Retrieving content for https://www.kariera.gr/jobs/23876\n",
      "Retrieving content for https://www.kariera.gr/jobs/23889\n",
      "Retrieving content for https://www.kariera.gr/jobs/23760\n",
      "Retrieving content for https://www.kariera.gr/jobs/23619\n",
      "Retrieving content for https://www.kariera.gr/jobs/23479\n",
      "Retrieving content for https://www.kariera.gr/jobs/23438\n",
      "Retrieving content for https://www.kariera.gr/jobs/23365\n",
      "Retrieving content for https://www.kariera.gr/jobs/23366\n",
      "Retrieving content for https://www.kariera.gr/jobs/23197\n",
      "Retrieving content for https://www.kariera.gr/jobs/22752\n",
      "Retrieving content for https://www.kariera.gr/jobs/22670\n",
      "Retrieving content for https://www.kariera.gr/jobs/22514\n",
      "Retrieving content for https://www.kariera.gr/jobs/22517\n",
      "Retrieving content for https://www.kariera.gr/jobs/22399\n",
      "Retrieving content for https://www.kariera.gr/jobs/22431\n",
      "Retrieving content for https://www.kariera.gr/jobs/22383\n",
      "Retrieving content for https://www.kariera.gr/jobs/22317\n",
      "Retrieving content for https://www.kariera.gr/jobs/22231\n",
      "Retrieving content for https://www.kariera.gr/jobs/22184\n",
      "Retrieving content for https://www.kariera.gr/jobs/22116\n",
      "Retrieving content for https://www.kariera.gr/jobs/22108\n",
      "Retrieving content for https://www.kariera.gr/jobs/22005\n",
      "Retrieving content for https://www.kariera.gr/jobs/21894\n",
      "Retrieving content for https://www.kariera.gr/jobs/21879\n",
      "Retrieving content for https://www.kariera.gr/jobs/21878\n",
      "Retrieving content for https://www.kariera.gr/jobs/21850\n",
      "Retrieving content for https://www.kariera.gr/jobs/21728\n",
      "Retrieving content for https://www.kariera.gr/jobs/21684\n",
      "Retrieving content for https://www.kariera.gr/jobs/21586\n",
      "Retrieving content for https://www.kariera.gr/jobs/21532\n",
      "Retrieving content for https://www.kariera.gr/jobs/21335\n",
      "Retrieving content for https://www.kariera.gr/jobs/21261\n",
      "Retrieving content for https://www.kariera.gr/jobs/21185\n",
      "Retrieving content for https://www.kariera.gr/jobs/20808\n",
      "Retrieving content for https://www.kariera.gr/jobs/20767\n",
      "Retrieving content for https://www.kariera.gr/jobs/20687\n",
      "Retrieving content for https://www.kariera.gr/jobs/20684\n",
      "Retrieving content for https://www.kariera.gr/jobs/20674\n",
      "Retrieving content for https://www.kariera.gr/jobs/20660\n",
      "Retrieving content for https://www.kariera.gr/jobs/20560\n",
      "Retrieving content for https://www.kariera.gr/jobs/20448\n",
      "Retrieving content for https://www.kariera.gr/jobs/20446\n",
      "Retrieving content for https://www.kariera.gr/jobs/20420\n",
      "Retrieving content for https://www.kariera.gr/jobs/20281\n",
      "Retrieving content for https://www.kariera.gr/jobs/24404\n",
      "Retrieving content for https://www.kariera.gr/jobs/24899\n",
      "Retrieving content for https://www.kariera.gr/jobs/24456\n",
      "Retrieving content for https://www.kariera.gr/jobs/22966\n",
      "Retrieving content for https://www.kariera.gr/jobs/21637\n",
      "Retrieving content for https://www.kariera.gr/jobs/23143\n",
      "Retrieving content for https://www.kariera.gr/jobs/25499\n",
      "Retrieving content for https://www.kariera.gr/jobs/25172\n",
      "Retrieving content for https://www.kariera.gr/jobs/24951\n",
      "Retrieving content for https://www.kariera.gr/jobs/24972\n",
      "Retrieving content for https://www.kariera.gr/jobs/24973\n",
      "Retrieving content for https://www.kariera.gr/jobs/24978\n",
      "Retrieving content for https://www.kariera.gr/jobs/24979\n",
      "Retrieving content for https://www.kariera.gr/jobs/24960\n",
      "Retrieving content for https://www.kariera.gr/jobs/24410\n",
      "Retrieving content for https://www.kariera.gr/jobs/24026\n"
     ]
    },
    {
     "name": "stdout",
     "output_type": "stream",
     "text": [
      "Retrieving content for https://www.kariera.gr/jobs/23536\n",
      "Retrieving content for https://www.kariera.gr/jobs/23535\n",
      "Retrieving content for https://www.kariera.gr/jobs/23190\n",
      "Retrieving content for https://www.kariera.gr/jobs/22695\n",
      "Retrieving content for https://www.kariera.gr/jobs/22238\n",
      "Retrieving content for https://www.kariera.gr/jobs/22044\n",
      "Retrieving content for https://www.kariera.gr/jobs/21970\n",
      "Retrieving content for https://www.kariera.gr/jobs/21807\n",
      "Retrieving content for https://www.kariera.gr/jobs/20247\n"
     ]
    },
    {
     "name": "stderr",
     "output_type": "stream",
     "text": [
      "/tmp/ipykernel_26720/1939966028.py:1: SettingWithCopyWarning: \n",
      "A value is trying to be set on a copy of a slice from a DataFrame.\n",
      "Try using .loc[row_indexer,col_indexer] = value instead\n",
      "\n",
      "See the caveats in the documentation: https://pandas.pydata.org/pandas-docs/stable/user_guide/indexing.html#returning-a-view-versus-a-copy\n",
      "  jobs_df['content'] = jobs_df.apply(lambda x: get_description(x.job_id), axis=1)\n"
     ]
    }
   ],
   "source": [
    "# add the content to our previous dataframe\n",
    "jobs_df['content'] = jobs_df.apply(lambda x: get_description(x.job_id), axis=1) \n"
   ]
  },
  {
   "cell_type": "code",
   "execution_count": 145,
   "id": "871e36ef",
   "metadata": {},
   "outputs": [
    {
     "data": {
      "text/html": [
       "<div>\n",
       "<style scoped>\n",
       "    .dataframe tbody tr th:only-of-type {\n",
       "        vertical-align: middle;\n",
       "    }\n",
       "\n",
       "    .dataframe tbody tr th {\n",
       "        vertical-align: top;\n",
       "    }\n",
       "\n",
       "    .dataframe thead th {\n",
       "        text-align: right;\n",
       "    }\n",
       "</style>\n",
       "<table border=\"1\" class=\"dataframe\">\n",
       "  <thead>\n",
       "    <tr style=\"text-align: right;\">\n",
       "      <th></th>\n",
       "      <th>job_id</th>\n",
       "      <th>title</th>\n",
       "      <th>company</th>\n",
       "      <th>location</th>\n",
       "      <th>occupation</th>\n",
       "      <th>content</th>\n",
       "    </tr>\n",
       "  </thead>\n",
       "  <tbody>\n",
       "    <tr>\n",
       "      <th>0</th>\n",
       "      <td>21851</td>\n",
       "      <td>Software Quality Assurance Engineer</td>\n",
       "      <td>ATOS GREECE</td>\n",
       "      <td>Αθήνα</td>\n",
       "      <td>Πλήρης απασχόληση</td>\n",
       "      <td>\\n\\n\\nDescription\\n\\nAtos is a global leader i...</td>\n",
       "    </tr>\n",
       "    <tr>\n",
       "      <th>1</th>\n",
       "      <td>21852</td>\n",
       "      <td>Backend Software Development Engineer</td>\n",
       "      <td>ATOS GREECE</td>\n",
       "      <td>Αθήνα</td>\n",
       "      <td>Πλήρης απασχόληση</td>\n",
       "      <td>\\n\\n\\nDescription\\n\\nAtos is a global leader i...</td>\n",
       "    </tr>\n",
       "    <tr>\n",
       "      <th>2</th>\n",
       "      <td>23402</td>\n",
       "      <td>Software Engineers στη Θέρμη Θεσσαλονίκης</td>\n",
       "      <td>Lidl Ελλάς</td>\n",
       "      <td>Θέρμη</td>\n",
       "      <td>Πλήρης απασχόληση</td>\n",
       "      <td>\\n\\nΠοιοι είμαστε\\n\\n\\nΠάνω από 3.500 ΙΤ profe...</td>\n",
       "    </tr>\n",
       "    <tr>\n",
       "      <th>3</th>\n",
       "      <td>21998</td>\n",
       "      <td>Senior Cloud Engineer</td>\n",
       "      <td>Executive Level</td>\n",
       "      <td>Αθήνα</td>\n",
       "      <td>Πλήρης απασχόληση</td>\n",
       "      <td>Senior Cloud EngineerSenior Cloud Engineer  Th...</td>\n",
       "    </tr>\n",
       "    <tr>\n",
       "      <th>4</th>\n",
       "      <td>21047</td>\n",
       "      <td>Software Engineer (Python) – Data Scientist</td>\n",
       "      <td>METIS CYBERSPACE TECHNOLOGY SA</td>\n",
       "      <td>Αθήνα</td>\n",
       "      <td>Πλήρης απασχόληση</td>\n",
       "      <td>Job DescriptionJob DescriptionAs a Python Soft...</td>\n",
       "    </tr>\n",
       "    <tr>\n",
       "      <th>...</th>\n",
       "      <td>...</td>\n",
       "      <td>...</td>\n",
       "      <td>...</td>\n",
       "      <td>...</td>\n",
       "      <td>...</td>\n",
       "      <td>...</td>\n",
       "    </tr>\n",
       "    <tr>\n",
       "      <th>520</th>\n",
       "      <td>22238</td>\n",
       "      <td>Junior Controller / Thessaloniki</td>\n",
       "      <td>Sani/Ikos Group</td>\n",
       "      <td>Θεσσαλονίκη</td>\n",
       "      <td>Πλήρης απασχόληση</td>\n",
       "      <td>Who do you want to become? Who do you want to...</td>\n",
       "    </tr>\n",
       "    <tr>\n",
       "      <th>521</th>\n",
       "      <td>22044</td>\n",
       "      <td>Product Manager</td>\n",
       "      <td>WIND HELLAS TELECOMMUNICATIONS</td>\n",
       "      <td>Αθήνα</td>\n",
       "      <td>Πλήρης απασχόληση</td>\n",
       "      <td>At WIND, we believe in a world of connection, ...</td>\n",
       "    </tr>\n",
       "    <tr>\n",
       "      <th>522</th>\n",
       "      <td>21970</td>\n",
       "      <td>Marketing Assistant</td>\n",
       "      <td>VARIO A.E.</td>\n",
       "      <td>Ταύρος Αττικής</td>\n",
       "      <td>Πλήρης απασχόληση</td>\n",
       "      <td>\\n\\n\\nDescription\\n\\nΗ VARIO Α.Ε. ιδρύθηκε το ...</td>\n",
       "    </tr>\n",
       "    <tr>\n",
       "      <th>523</th>\n",
       "      <td>21807</td>\n",
       "      <td>Production Finance Controller</td>\n",
       "      <td>OPTIMAL HR GROUP</td>\n",
       "      <td>Θεσσαλονίκη</td>\n",
       "      <td>Πλήρης απασχόληση</td>\n",
       "      <td>Production Finance ControllerProduction Financ...</td>\n",
       "    </tr>\n",
       "    <tr>\n",
       "      <th>524</th>\n",
       "      <td>20247</td>\n",
       "      <td>SQL Developer</td>\n",
       "      <td>Comsys CX</td>\n",
       "      <td>Κηφισιά</td>\n",
       "      <td>Πλήρης απασχόληση</td>\n",
       "      <td>About ComsysAbout ComsysWe are a leading ICT s...</td>\n",
       "    </tr>\n",
       "  </tbody>\n",
       "</table>\n",
       "<p>441 rows × 6 columns</p>\n",
       "</div>"
      ],
      "text/plain": [
       "     job_id                                        title  \\\n",
       "0     21851          Software Quality Assurance Engineer   \n",
       "1     21852        Backend Software Development Engineer   \n",
       "2     23402    Software Engineers στη Θέρμη Θεσσαλονίκης   \n",
       "3     21998                        Senior Cloud Engineer   \n",
       "4     21047  Software Engineer (Python) – Data Scientist   \n",
       "..      ...                                          ...   \n",
       "520   22238             Junior Controller / Thessaloniki   \n",
       "521   22044                              Product Manager   \n",
       "522   21970                          Marketing Assistant   \n",
       "523   21807                Production Finance Controller   \n",
       "524   20247                                SQL Developer   \n",
       "\n",
       "                            company        location         occupation  \\\n",
       "0                       ATOS GREECE           Αθήνα  Πλήρης απασχόληση   \n",
       "1                       ATOS GREECE           Αθήνα  Πλήρης απασχόληση   \n",
       "2                       Lidl Ελλάς            Θέρμη  Πλήρης απασχόληση   \n",
       "3                   Executive Level           Αθήνα  Πλήρης απασχόληση   \n",
       "4    METIS CYBERSPACE TECHNOLOGY SA           Αθήνα  Πλήρης απασχόληση   \n",
       "..                              ...             ...                ...   \n",
       "520                 Sani/Ikos Group     Θεσσαλονίκη  Πλήρης απασχόληση   \n",
       "521  WIND HELLAS TELECOMMUNICATIONS           Αθήνα  Πλήρης απασχόληση   \n",
       "522                      VARIO A.E.  Ταύρος Αττικής  Πλήρης απασχόληση   \n",
       "523                OPTIMAL HR GROUP     Θεσσαλονίκη  Πλήρης απασχόληση   \n",
       "524                       Comsys CX         Κηφισιά  Πλήρης απασχόληση   \n",
       "\n",
       "                                               content  \n",
       "0    \\n\\n\\nDescription\\n\\nAtos is a global leader i...  \n",
       "1    \\n\\n\\nDescription\\n\\nAtos is a global leader i...  \n",
       "2    \\n\\nΠοιοι είμαστε\\n\\n\\nΠάνω από 3.500 ΙΤ profe...  \n",
       "3    Senior Cloud EngineerSenior Cloud Engineer  Th...  \n",
       "4    Job DescriptionJob DescriptionAs a Python Soft...  \n",
       "..                                                 ...  \n",
       "520   Who do you want to become? Who do you want to...  \n",
       "521  At WIND, we believe in a world of connection, ...  \n",
       "522  \\n\\n\\nDescription\\n\\nΗ VARIO Α.Ε. ιδρύθηκε το ...  \n",
       "523  Production Finance ControllerProduction Financ...  \n",
       "524  About ComsysAbout ComsysWe are a leading ICT s...  \n",
       "\n",
       "[441 rows x 6 columns]"
      ]
     },
     "execution_count": 145,
     "metadata": {},
     "output_type": "execute_result"
    }
   ],
   "source": [
    "jobs_df"
   ]
  }
 ],
 "metadata": {
  "kernelspec": {
   "display_name": "Python 3 (ipykernel)",
   "language": "python",
   "name": "python3"
  },
  "language_info": {
   "codemirror_mode": {
    "name": "ipython",
    "version": 3
   },
   "file_extension": ".py",
   "mimetype": "text/x-python",
   "name": "python",
   "nbconvert_exporter": "python",
   "pygments_lexer": "ipython3",
   "version": "3.9.12"
  },
  "toc": {
   "base_numbering": 1,
   "nav_menu": {},
   "number_sections": true,
   "sideBar": true,
   "skip_h1_title": false,
   "title_cell": "Table of Contents",
   "title_sidebar": "Contents",
   "toc_cell": false,
   "toc_position": {},
   "toc_section_display": true,
   "toc_window_display": false
  },
  "varInspector": {
   "cols": {
    "lenName": 16,
    "lenType": 16,
    "lenVar": 40
   },
   "kernels_config": {
    "python": {
     "delete_cmd_postfix": "",
     "delete_cmd_prefix": "del ",
     "library": "var_list.py",
     "varRefreshCmd": "print(var_dic_list())"
    },
    "r": {
     "delete_cmd_postfix": ") ",
     "delete_cmd_prefix": "rm(",
     "library": "var_list.r",
     "varRefreshCmd": "cat(var_dic_list()) "
    }
   },
   "types_to_exclude": [
    "module",
    "function",
    "builtin_function_or_method",
    "instance",
    "_Feature"
   ],
   "window_display": false
  }
 },
 "nbformat": 4,
 "nbformat_minor": 5
}
